{
 "cells": [
  {
   "cell_type": "markdown",
   "metadata": {},
   "source": [
    "# TorchOpt as Meta-Optimizer"
   ]
  },
  {
   "cell_type": "markdown",
   "metadata": {},
   "source": [
    "[<img align=\"left\" src=\"https://colab.research.google.com/assets/colab-badge.svg\">](https://colab.research.google.com/drive/1lo9q2gQz073urYln-4Yub5s8APUoHvQJ?usp=sharing)"
   ]
  },
  {
   "cell_type": "markdown",
   "metadata": {},
   "source": [
    "In this tutorial, we will show how to treat TorchOpt as a differentiable optimizer with traditional PyTorch optimization API. In addition, we also provide many other API for easy meta-learning algorithm implementations."
   ]
  },
  {
   "cell_type": "markdown",
   "metadata": {},
   "source": [
    "## 1. Basic API for Differentiable Optimizer\n",
    "\n",
    "`MetaOptimizer` is the main class for our differentiable optimizer. Combined with the functional optimizer `torchopt.sgd` and `torchopt.adam` mentioned in the tutorial 1, we can define our high-level API `torchopt.MetaSGD` and `torchopt.MetaAdam`. We will discuss how this combination happens with `torchopt.chain` in Section 3. Let us consider the problem below."
   ]
  },
  {
   "cell_type": "markdown",
   "metadata": {},
   "source": [
    "Assume a tensor $x$ is a meta parameter and $a$ is a normal parameters (such as network parameters). We have inner loss $\\mathcal{L}^{\\textrm{in}} = a_0 \\cdot x^2$ and we update $a$ use the gradient $\\frac{\\partial \\mathcal{L}^{\\textrm{in}}}{\\partial a_0} = x^2$ and $a_1 = a_0 - \\eta \\, \\frac{\\partial \\mathcal{L}^{\\textrm{in}}}{\\partial a_0} = a_0 - \\eta \\, x^2$. Then we compute the outer loss $\\mathcal{L}^{\\textrm{out}} = a_1 \\cdot x^2$. So the gradient of outer loss to $x$ would be:\n",
    "\n",
    "$$\n",
    "\\begin{split}\n",
    "        \\frac{\\partial \\mathcal{L}^{\\textrm{out}}}{\\partial x}\n",
    "    & = \\frac{\\partial (a_1 \\cdot x^2)}{\\partial x} \\\\\n",
    "    & = \\frac{\\partial a_1}{\\partial x} \\cdot x^2 + a_1 \\cdot \\frac{\\partial (x^2)}{\\partial x} \\\\\n",
    "    & = \\frac{\\partial (a_0 - \\eta \\, x^2)}{\\partial x} \\cdot x^2 + (a_0 - \\eta \\, x^2) \\cdot 2 x \\\\\n",
    "    & = (- \\eta \\cdot 2 x) \\cdot x^2 + (a_0 - \\eta \\, x^2) \\cdot 2 x \\\\\n",
    "    & = - 4 \\, \\eta \\, x^3 + 2 \\, a_0 \\, x\n",
    "\\end{split}\n",
    "$$"
   ]
  },
  {
   "cell_type": "markdown",
   "metadata": {},
   "source": [
    "Given the analytical solution above. Let's try to verify it with TorchOpt. Define the net work first."
   ]
  },
  {
   "cell_type": "code",
   "execution_count": 1,
   "metadata": {},
   "outputs": [],
   "source": [
    "from IPython.display import display\n",
    "\n",
    "import torch\n",
    "import torch.nn as nn\n",
    "import torch.nn.functional as F\n",
    "\n",
    "import torchopt\n",
    "\n",
    "\n",
    "class Net(nn.Module):\n",
    "    def __init__(self):\n",
    "        super().__init__()\n",
    "        self.a = nn.Parameter(torch.tensor(1.), requires_grad=True)\n",
    "    \n",
    "    def forward(self, x):\n",
    "        return self.a * (x ** 2)"
   ]
  },
  {
   "cell_type": "markdown",
   "metadata": {},
   "source": [
    "Then we declare the network (parameterized by `a`) and the meta parameter `x`. Do not forget to set flag `requires_grad=True` for `x`."
   ]
  },
  {
   "cell_type": "code",
   "execution_count": 2,
   "metadata": {},
   "outputs": [],
   "source": [
    "net = Net()\n",
    "x = nn.Parameter(torch.tensor(2.), requires_grad=True)"
   ]
  },
  {
   "cell_type": "markdown",
   "metadata": {},
   "source": [
    "Next we declare the meta optimizer. The meta optimizer takes as input the network and use method `step` to update the network (parameterized by `a`)."
   ]
  },
  {
   "cell_type": "code",
   "execution_count": 3,
   "metadata": {},
   "outputs": [
    {
     "name": "stdout",
     "output_type": "stream",
     "text": [
      "x.grad = tensor(-28.)\n"
     ]
    }
   ],
   "source": [
    "optim = torchopt.MetaSGD(net, lr=1.)\n",
    "\n",
    "inner_loss = net(x)\n",
    "optim.step(inner_loss)\n",
    "\n",
    "outer_loss = net(x)\n",
    "outer_loss.backward()\n",
    "# x.grad = - 4 * lr * x^3 + 2 * a_0 * x\n",
    "#        = - 4 * 1 * 2^3 + 2 * 1 * 2\n",
    "#        = -32 + 4\n",
    "#        = -28\n",
    "print(f'x.grad = {x.grad!r}')"
   ]
  },
  {
   "cell_type": "markdown",
   "metadata": {},
   "source": [
    "### 1.1 Track the Gradient of Momentum\n",
    "\n",
    "Note that most modern optimizers involve moment term in the gradient update (basically only SGD with `momentum = 0` does not involve). We provide an option for user to choose whether to also track the meta-gradient through moment term. The default option is `moment_requires_grad=True`."
   ]
  },
  {
   "cell_type": "markdown",
   "metadata": {},
   "source": [
    "- When you do not track the meta-gradient through moment (`moment_requires_grad=False`)"
   ]
  },
  {
   "cell_type": "code",
   "execution_count": 4,
   "metadata": {},
   "outputs": [
    {
     "name": "stdout",
     "output_type": "stream",
     "text": [
      "<graphviz.dot.Digraph object at 0x7fafd18ae400>\n"
     ]
    },
    {
     "data": {
      "image/svg+xml": "<?xml version=\"1.0\" encoding=\"UTF-8\" standalone=\"no\"?>\n<!DOCTYPE svg PUBLIC \"-//W3C//DTD SVG 1.1//EN\"\n \"http://www.w3.org/Graphics/SVG/1.1/DTD/svg11.dtd\">\n<!-- Generated by graphviz version 2.42.3 (20191010.1750)\n -->\n<!-- Title: %3 Pages: 1 -->\n<svg width=\"344pt\" height=\"1273pt\"\n viewBox=\"0.00 0.00 343.50 1273.00\" xmlns=\"http://www.w3.org/2000/svg\" xmlns:xlink=\"http://www.w3.org/1999/xlink\">\n<g id=\"graph0\" class=\"graph\" transform=\"scale(1 1) rotate(0) translate(4 1269)\">\n<title>%3</title>\n<polygon fill=\"white\" stroke=\"transparent\" points=\"-4,4 -4,-1269 339.5,-1269 339.5,4 -4,4\"/>\n<!-- 140393111569088 -->\n<g id=\"node1\" class=\"node\">\n<title>140393111569088</title>\n<polygon fill=\"#caff70\" stroke=\"black\" points=\"191,-36 114,-36 114,0 191,0 191,-36\"/>\n<text text-anchor=\"middle\" x=\"152.5\" y=\"-21\" font-family=\"menlo\" font-size=\"10.00\">outer_loss</text>\n<text text-anchor=\"middle\" x=\"152.5\" y=\"-10\" font-family=\"menlo\" font-size=\"10.00\"> ()</text>\n</g>\n<!-- 140393111544592 -->\n<g id=\"node2\" class=\"node\">\n<title>140393111544592</title>\n<polygon fill=\"lightgrey\" stroke=\"black\" points=\"209,-108 96,-108 96,-72 209,-72 209,-108\"/>\n<text text-anchor=\"middle\" x=\"152.5\" y=\"-87.5\" font-family=\"menlo\" font-size=\"10.00\">MseLossBackward0</text>\n</g>\n<!-- 140393111544592&#45;&gt;140393111569088 -->\n<g id=\"edge27\" class=\"edge\">\n<title>140393111544592&#45;&gt;140393111569088</title>\n<path fill=\"none\" stroke=\"black\" d=\"M152.5,-71.7C152.5,-63.98 152.5,-54.71 152.5,-46.11\"/>\n<polygon fill=\"black\" stroke=\"black\" points=\"156,-46.1 152.5,-36.1 149,-46.1 156,-46.1\"/>\n</g>\n<!-- 140393111544736 -->\n<g id=\"node3\" class=\"node\">\n<title>140393111544736</title>\n<polygon fill=\"lightgrey\" stroke=\"black\" points=\"197,-180 108,-180 108,-144 197,-144 197,-180\"/>\n<text text-anchor=\"middle\" x=\"152.5\" y=\"-159.5\" font-family=\"menlo\" font-size=\"10.00\">MulBackward0</text>\n</g>\n<!-- 140393111544736&#45;&gt;140393111544592 -->\n<g id=\"edge1\" class=\"edge\">\n<title>140393111544736&#45;&gt;140393111544592</title>\n<path fill=\"none\" stroke=\"black\" d=\"M152.5,-143.7C152.5,-135.98 152.5,-126.71 152.5,-118.11\"/>\n<polygon fill=\"black\" stroke=\"black\" points=\"156,-118.1 152.5,-108.1 149,-118.1 156,-118.1\"/>\n</g>\n<!-- 140396237940576 -->\n<g id=\"node4\" class=\"node\">\n<title>140396237940576</title>\n<polygon fill=\"lightblue\" stroke=\"black\" points=\"244,-257 155,-257 155,-216 244,-216 244,-257\"/>\n<text text-anchor=\"middle\" x=\"199.5\" y=\"-245\" font-family=\"menlo\" font-size=\"10.00\">AddBackward0</text>\n<text text-anchor=\"middle\" x=\"199.5\" y=\"-234\" font-family=\"menlo\" font-size=\"10.00\"> step1.a</text>\n<text text-anchor=\"middle\" x=\"199.5\" y=\"-223\" font-family=\"menlo\" font-size=\"10.00\"> ()</text>\n</g>\n<!-- 140396237940576&#45;&gt;140393111544736 -->\n<g id=\"edge2\" class=\"edge\">\n<title>140396237940576&#45;&gt;140393111544736</title>\n<path fill=\"none\" stroke=\"black\" d=\"M186.66,-215.69C181.28,-207.39 174.95,-197.63 169.21,-188.78\"/>\n<polygon fill=\"black\" stroke=\"black\" points=\"172.1,-186.81 163.73,-180.32 166.23,-190.61 172.1,-186.81\"/>\n</g>\n<!-- 140393111545216 -->\n<g id=\"node5\" class=\"node\">\n<title>140393111545216</title>\n<polygon fill=\"lightgrey\" stroke=\"black\" points=\"333,-1121 232,-1121 232,-1085 333,-1085 333,-1121\"/>\n<text text-anchor=\"middle\" x=\"282.5\" y=\"-1100.5\" font-family=\"menlo\" font-size=\"10.00\">AccumulateGrad</text>\n</g>\n<!-- 140393111545216&#45;&gt;140396237940576 -->\n<g id=\"edge3\" class=\"edge\">\n<title>140393111545216&#45;&gt;140396237940576</title>\n<path fill=\"none\" stroke=\"black\" d=\"M293.48,-1084.84C309.01,-1058.89 335.5,-1007.63 335.5,-960 335.5,-960 335.5,-960 335.5,-382 335.5,-328.67 285.78,-287 246.46,-262.39\"/>\n<polygon fill=\"black\" stroke=\"black\" points=\"248.11,-259.3 237.75,-257.1 244.48,-265.28 248.11,-259.3\"/>\n</g>\n<!-- 140393111545984 -->\n<g id=\"node14\" class=\"node\">\n<title>140393111545984</title>\n<polygon fill=\"lightgrey\" stroke=\"black\" points=\"271,-1049 182,-1049 182,-1013 271,-1013 271,-1049\"/>\n<text text-anchor=\"middle\" x=\"226.5\" y=\"-1028.5\" font-family=\"menlo\" font-size=\"10.00\">MulBackward0</text>\n</g>\n<!-- 140393111545216&#45;&gt;140393111545984 -->\n<g id=\"edge13\" class=\"edge\">\n<title>140393111545216&#45;&gt;140393111545984</title>\n<path fill=\"none\" stroke=\"black\" d=\"M268.66,-1084.7C262.01,-1076.39 253.92,-1066.28 246.61,-1057.14\"/>\n<polygon fill=\"black\" stroke=\"black\" points=\"249.16,-1054.73 240.18,-1049.1 243.7,-1059.1 249.16,-1054.73\"/>\n</g>\n<!-- 140393111534464 -->\n<g id=\"node6\" class=\"node\">\n<title>140393111534464</title>\n<polygon fill=\"lightblue\" stroke=\"black\" points=\"312,-1193 253,-1193 253,-1157 312,-1157 312,-1193\"/>\n<text text-anchor=\"middle\" x=\"282.5\" y=\"-1178\" font-family=\"menlo\" font-size=\"10.00\">step0.a</text>\n<text text-anchor=\"middle\" x=\"282.5\" y=\"-1167\" font-family=\"menlo\" font-size=\"10.00\"> ()</text>\n</g>\n<!-- 140393111534464&#45;&gt;140393111545216 -->\n<g id=\"edge4\" class=\"edge\">\n<title>140393111534464&#45;&gt;140393111545216</title>\n<path fill=\"none\" stroke=\"black\" d=\"M282.5,-1156.7C282.5,-1148.98 282.5,-1139.71 282.5,-1131.11\"/>\n<polygon fill=\"black\" stroke=\"black\" points=\"286,-1131.1 282.5,-1121.1 279,-1131.1 286,-1131.1\"/>\n</g>\n<!-- 140393111544112 -->\n<g id=\"node7\" class=\"node\">\n<title>140393111544112</title>\n<polygon fill=\"lightgrey\" stroke=\"black\" points=\"244,-329 155,-329 155,-293 244,-293 244,-329\"/>\n<text text-anchor=\"middle\" x=\"199.5\" y=\"-308.5\" font-family=\"menlo\" font-size=\"10.00\">MulBackward0</text>\n</g>\n<!-- 140393111544112&#45;&gt;140396237940576 -->\n<g id=\"edge5\" class=\"edge\">\n<title>140393111544112&#45;&gt;140396237940576</title>\n<path fill=\"none\" stroke=\"black\" d=\"M199.5,-292.82C199.5,-285.2 199.5,-276 199.5,-267.32\"/>\n<polygon fill=\"black\" stroke=\"black\" points=\"203,-267.12 199.5,-257.12 196,-267.12 203,-267.12\"/>\n</g>\n<!-- 140393111545168 -->\n<g id=\"node8\" class=\"node\">\n<title>140393111545168</title>\n<polygon fill=\"lightgrey\" stroke=\"black\" points=\"244,-401 155,-401 155,-365 244,-365 244,-401\"/>\n<text text-anchor=\"middle\" x=\"199.5\" y=\"-380.5\" font-family=\"menlo\" font-size=\"10.00\">DivBackward0</text>\n</g>\n<!-- 140393111545168&#45;&gt;140393111544112 -->\n<g id=\"edge6\" class=\"edge\">\n<title>140393111545168&#45;&gt;140393111544112</title>\n<path fill=\"none\" stroke=\"black\" d=\"M199.5,-364.7C199.5,-356.98 199.5,-347.71 199.5,-339.11\"/>\n<polygon fill=\"black\" stroke=\"black\" points=\"203,-339.1 199.5,-329.1 196,-339.1 203,-339.1\"/>\n</g>\n<!-- 140393111545408 -->\n<g id=\"node9\" class=\"node\">\n<title>140393111545408</title>\n<polygon fill=\"lightgrey\" stroke=\"black\" points=\"199,-617 110,-617 110,-581 199,-581 199,-617\"/>\n<text text-anchor=\"middle\" x=\"154.5\" y=\"-596.5\" font-family=\"menlo\" font-size=\"10.00\">DivBackward0</text>\n</g>\n<!-- 140393111545408&#45;&gt;140393111545168 -->\n<g id=\"edge7\" class=\"edge\">\n<title>140393111545408&#45;&gt;140393111545168</title>\n<path fill=\"none\" stroke=\"black\" d=\"M156.91,-580.95C161.24,-551.41 171.03,-488.92 183.5,-437 185.57,-428.36 188.24,-419.05 190.79,-410.68\"/>\n<polygon fill=\"black\" stroke=\"black\" points=\"194.16,-411.64 193.81,-401.05 187.48,-409.55 194.16,-411.64\"/>\n</g>\n<!-- 140393111545552 -->\n<g id=\"node10\" class=\"node\">\n<title>140393111545552</title>\n<polygon fill=\"lightgrey\" stroke=\"black\" points=\"199,-761 110,-761 110,-725 199,-725 199,-761\"/>\n<text text-anchor=\"middle\" x=\"154.5\" y=\"-740.5\" font-family=\"menlo\" font-size=\"10.00\">AddBackward0</text>\n</g>\n<!-- 140393111545552&#45;&gt;140393111545408 -->\n<g id=\"edge8\" class=\"edge\">\n<title>140393111545552&#45;&gt;140393111545408</title>\n<path fill=\"none\" stroke=\"black\" d=\"M154.5,-724.87C154.5,-700.67 154.5,-656.21 154.5,-627.39\"/>\n<polygon fill=\"black\" stroke=\"black\" points=\"158,-627.19 154.5,-617.19 151,-627.19 158,-627.19\"/>\n</g>\n<!-- 140393111545648 -->\n<g id=\"node11\" class=\"node\">\n<title>140393111545648</title>\n<polygon fill=\"lightgrey\" stroke=\"black\" points=\"199,-833 110,-833 110,-797 199,-797 199,-833\"/>\n<text text-anchor=\"middle\" x=\"154.5\" y=\"-812.5\" font-family=\"menlo\" font-size=\"10.00\">PowBackward0</text>\n</g>\n<!-- 140393111545648&#45;&gt;140393111545552 -->\n<g id=\"edge9\" class=\"edge\">\n<title>140393111545648&#45;&gt;140393111545552</title>\n<path fill=\"none\" stroke=\"black\" d=\"M154.5,-796.7C154.5,-788.98 154.5,-779.71 154.5,-771.11\"/>\n<polygon fill=\"black\" stroke=\"black\" points=\"158,-771.1 154.5,-761.1 151,-771.1 158,-771.1\"/>\n</g>\n<!-- 140393111545744 -->\n<g id=\"node12\" class=\"node\">\n<title>140393111545744</title>\n<polygon fill=\"lightgrey\" stroke=\"black\" points=\"235,-905 146,-905 146,-869 235,-869 235,-905\"/>\n<text text-anchor=\"middle\" x=\"190.5\" y=\"-884.5\" font-family=\"menlo\" font-size=\"10.00\">MulBackward0</text>\n</g>\n<!-- 140393111545744&#45;&gt;140393111545648 -->\n<g id=\"edge10\" class=\"edge\">\n<title>140393111545744&#45;&gt;140393111545648</title>\n<path fill=\"none\" stroke=\"black\" d=\"M181.6,-868.7C177.5,-860.73 172.55,-851.1 168.01,-842.26\"/>\n<polygon fill=\"black\" stroke=\"black\" points=\"170.98,-840.4 163.3,-833.1 164.76,-843.6 170.98,-840.4\"/>\n</g>\n<!-- 140393111546272 -->\n<g id=\"node23\" class=\"node\">\n<title>140393111546272</title>\n<polygon fill=\"lightgrey\" stroke=\"black\" points=\"306,-833 217,-833 217,-797 306,-797 306,-833\"/>\n<text text-anchor=\"middle\" x=\"261.5\" y=\"-812.5\" font-family=\"menlo\" font-size=\"10.00\">PowBackward0</text>\n</g>\n<!-- 140393111545744&#45;&gt;140393111546272 -->\n<g id=\"edge24\" class=\"edge\">\n<title>140393111545744&#45;&gt;140393111546272</title>\n<path fill=\"none\" stroke=\"black\" d=\"M208.05,-868.7C216.73,-860.14 227.36,-849.66 236.85,-840.3\"/>\n<polygon fill=\"black\" stroke=\"black\" points=\"239.49,-842.62 244.15,-833.1 234.57,-837.63 239.49,-842.62\"/>\n</g>\n<!-- 140393111545840 -->\n<g id=\"node13\" class=\"node\">\n<title>140393111545840</title>\n<polygon fill=\"lightgrey\" stroke=\"black\" points=\"307,-977 146,-977 146,-941 307,-941 307,-977\"/>\n<text text-anchor=\"middle\" x=\"226.5\" y=\"-956.5\" font-family=\"menlo\" font-size=\"10.00\">MseLossBackwardBackward0</text>\n</g>\n<!-- 140393111545840&#45;&gt;140393111545744 -->\n<g id=\"edge11\" class=\"edge\">\n<title>140393111545840&#45;&gt;140393111545744</title>\n<path fill=\"none\" stroke=\"black\" d=\"M217.6,-940.7C213.5,-932.73 208.55,-923.1 204.01,-914.26\"/>\n<polygon fill=\"black\" stroke=\"black\" points=\"206.98,-912.4 199.3,-905.1 200.76,-915.6 206.98,-912.4\"/>\n</g>\n<!-- 140393111545984&#45;&gt;140393111545840 -->\n<g id=\"edge12\" class=\"edge\">\n<title>140393111545984&#45;&gt;140393111545840</title>\n<path fill=\"none\" stroke=\"black\" d=\"M226.5,-1012.7C226.5,-1004.98 226.5,-995.71 226.5,-987.11\"/>\n<polygon fill=\"black\" stroke=\"black\" points=\"230,-987.1 226.5,-977.1 223,-987.1 230,-987.1\"/>\n</g>\n<!-- 140393111545792 -->\n<g id=\"node15\" class=\"node\">\n<title>140393111545792</title>\n<polygon fill=\"lightgrey\" stroke=\"black\" points=\"162,-1121 73,-1121 73,-1085 162,-1085 162,-1121\"/>\n<text text-anchor=\"middle\" x=\"117.5\" y=\"-1100.5\" font-family=\"menlo\" font-size=\"10.00\">PowBackward0</text>\n</g>\n<!-- 140393111545792&#45;&gt;140393111545744 -->\n<g id=\"edge17\" class=\"edge\">\n<title>140393111545792&#45;&gt;140393111545744</title>\n<path fill=\"none\" stroke=\"black\" d=\"M115.94,-1084.99C113.89,-1054.44 112.95,-989.01 136.5,-941 141.83,-930.15 150.3,-920.25 158.97,-912.02\"/>\n<polygon fill=\"black\" stroke=\"black\" points=\"161.44,-914.5 166.57,-905.23 156.78,-909.28 161.44,-914.5\"/>\n</g>\n<!-- 140393111545792&#45;&gt;140393111545984 -->\n<g id=\"edge14\" class=\"edge\">\n<title>140393111545792&#45;&gt;140393111545984</title>\n<path fill=\"none\" stroke=\"black\" d=\"M144.16,-1084.88C158.28,-1075.81 175.81,-1064.55 191.06,-1054.76\"/>\n<polygon fill=\"black\" stroke=\"black\" points=\"193.21,-1057.54 199.73,-1049.19 189.43,-1051.65 193.21,-1057.54\"/>\n</g>\n<!-- 140393111546128 -->\n<g id=\"node16\" class=\"node\">\n<title>140393111546128</title>\n<polygon fill=\"lightgrey\" stroke=\"black\" points=\"132,-1193 31,-1193 31,-1157 132,-1157 132,-1193\"/>\n<text text-anchor=\"middle\" x=\"81.5\" y=\"-1172.5\" font-family=\"menlo\" font-size=\"10.00\">AccumulateGrad</text>\n</g>\n<!-- 140393111546128&#45;&gt;140393111545792 -->\n<g id=\"edge15\" class=\"edge\">\n<title>140393111546128&#45;&gt;140393111545792</title>\n<path fill=\"none\" stroke=\"black\" d=\"M90.4,-1156.7C94.5,-1148.73 99.45,-1139.1 103.99,-1130.26\"/>\n<polygon fill=\"black\" stroke=\"black\" points=\"107.24,-1131.6 108.7,-1121.1 101.02,-1128.4 107.24,-1131.6\"/>\n</g>\n<!-- 140393111545024 -->\n<g id=\"node24\" class=\"node\">\n<title>140393111545024</title>\n<polygon fill=\"lightgrey\" stroke=\"black\" points=\"89,-1049 0,-1049 0,-1013 89,-1013 89,-1049\"/>\n<text text-anchor=\"middle\" x=\"44.5\" y=\"-1028.5\" font-family=\"menlo\" font-size=\"10.00\">PowBackward0</text>\n</g>\n<!-- 140393111546128&#45;&gt;140393111545024 -->\n<g id=\"edge26\" class=\"edge\">\n<title>140393111546128&#45;&gt;140393111545024</title>\n<path fill=\"none\" stroke=\"black\" d=\"M75.15,-1156.97C71.45,-1146.66 66.86,-1133.18 63.5,-1121 57.87,-1100.57 52.92,-1077.11 49.49,-1059.4\"/>\n<polygon fill=\"black\" stroke=\"black\" points=\"52.86,-1058.38 47.55,-1049.21 45.98,-1059.68 52.86,-1058.38\"/>\n</g>\n<!-- 140393111534624 -->\n<g id=\"node17\" class=\"node\">\n<title>140393111534624</title>\n<polygon fill=\"lightblue\" stroke=\"black\" points=\"108.5,-1265 54.5,-1265 54.5,-1229 108.5,-1229 108.5,-1265\"/>\n<text text-anchor=\"middle\" x=\"81.5\" y=\"-1250\" font-family=\"menlo\" font-size=\"10.00\">x</text>\n<text text-anchor=\"middle\" x=\"81.5\" y=\"-1239\" font-family=\"menlo\" font-size=\"10.00\"> ()</text>\n</g>\n<!-- 140393111534624&#45;&gt;140393111546128 -->\n<g id=\"edge16\" class=\"edge\">\n<title>140393111534624&#45;&gt;140393111546128</title>\n<path fill=\"none\" stroke=\"black\" d=\"M81.5,-1228.7C81.5,-1220.98 81.5,-1211.71 81.5,-1203.11\"/>\n<polygon fill=\"black\" stroke=\"black\" points=\"85,-1203.1 81.5,-1193.1 78,-1203.1 85,-1203.1\"/>\n</g>\n<!-- 140393111545360 -->\n<g id=\"node18\" class=\"node\">\n<title>140393111545360</title>\n<polygon fill=\"lightgrey\" stroke=\"black\" points=\"281,-473 192,-473 192,-437 281,-437 281,-473\"/>\n<text text-anchor=\"middle\" x=\"236.5\" y=\"-452.5\" font-family=\"menlo\" font-size=\"10.00\">AddBackward0</text>\n</g>\n<!-- 140393111545360&#45;&gt;140393111545168 -->\n<g id=\"edge18\" class=\"edge\">\n<title>140393111545360&#45;&gt;140393111545168</title>\n<path fill=\"none\" stroke=\"black\" d=\"M227.35,-436.7C223.1,-428.64 217.94,-418.89 213.23,-409.98\"/>\n<polygon fill=\"black\" stroke=\"black\" points=\"216.31,-408.31 208.54,-401.1 210.12,-411.58 216.31,-408.31\"/>\n</g>\n<!-- 140393111545696 -->\n<g id=\"node19\" class=\"node\">\n<title>140393111545696</title>\n<polygon fill=\"lightgrey\" stroke=\"black\" points=\"299,-545 204,-545 204,-509 299,-509 299,-545\"/>\n<text text-anchor=\"middle\" x=\"251.5\" y=\"-524.5\" font-family=\"menlo\" font-size=\"10.00\">SqrtBackward0</text>\n</g>\n<!-- 140393111545696&#45;&gt;140393111545360 -->\n<g id=\"edge19\" class=\"edge\">\n<title>140393111545696&#45;&gt;140393111545360</title>\n<path fill=\"none\" stroke=\"black\" d=\"M247.79,-508.7C246.14,-500.98 244.15,-491.71 242.31,-483.11\"/>\n<polygon fill=\"black\" stroke=\"black\" points=\"245.68,-482.15 240.17,-473.1 238.84,-483.62 245.68,-482.15\"/>\n</g>\n<!-- 140393111545936 -->\n<g id=\"node20\" class=\"node\">\n<title>140393111545936</title>\n<polygon fill=\"lightgrey\" stroke=\"black\" points=\"306,-617 217,-617 217,-581 306,-581 306,-617\"/>\n<text text-anchor=\"middle\" x=\"261.5\" y=\"-596.5\" font-family=\"menlo\" font-size=\"10.00\">AddBackward0</text>\n</g>\n<!-- 140393111545936&#45;&gt;140393111545696 -->\n<g id=\"edge20\" class=\"edge\">\n<title>140393111545936&#45;&gt;140393111545696</title>\n<path fill=\"none\" stroke=\"black\" d=\"M259.03,-580.7C257.93,-572.98 256.6,-563.71 255.37,-555.11\"/>\n<polygon fill=\"black\" stroke=\"black\" points=\"258.82,-554.51 253.94,-545.1 251.89,-555.5 258.82,-554.51\"/>\n</g>\n<!-- 140393111545888 -->\n<g id=\"node21\" class=\"node\">\n<title>140393111545888</title>\n<polygon fill=\"lightgrey\" stroke=\"black\" points=\"306,-689 217,-689 217,-653 306,-653 306,-689\"/>\n<text text-anchor=\"middle\" x=\"261.5\" y=\"-668.5\" font-family=\"menlo\" font-size=\"10.00\">DivBackward0</text>\n</g>\n<!-- 140393111545888&#45;&gt;140393111545936 -->\n<g id=\"edge21\" class=\"edge\">\n<title>140393111545888&#45;&gt;140393111545936</title>\n<path fill=\"none\" stroke=\"black\" d=\"M261.5,-652.7C261.5,-644.98 261.5,-635.71 261.5,-627.11\"/>\n<polygon fill=\"black\" stroke=\"black\" points=\"265,-627.1 261.5,-617.1 258,-627.1 265,-627.1\"/>\n</g>\n<!-- 140393111546176 -->\n<g id=\"node22\" class=\"node\">\n<title>140393111546176</title>\n<polygon fill=\"lightgrey\" stroke=\"black\" points=\"306,-761 217,-761 217,-725 306,-725 306,-761\"/>\n<text text-anchor=\"middle\" x=\"261.5\" y=\"-740.5\" font-family=\"menlo\" font-size=\"10.00\">AddBackward0</text>\n</g>\n<!-- 140393111546176&#45;&gt;140393111545888 -->\n<g id=\"edge22\" class=\"edge\">\n<title>140393111546176&#45;&gt;140393111545888</title>\n<path fill=\"none\" stroke=\"black\" d=\"M261.5,-724.7C261.5,-716.98 261.5,-707.71 261.5,-699.11\"/>\n<polygon fill=\"black\" stroke=\"black\" points=\"265,-699.1 261.5,-689.1 258,-699.1 265,-699.1\"/>\n</g>\n<!-- 140393111546272&#45;&gt;140393111546176 -->\n<g id=\"edge23\" class=\"edge\">\n<title>140393111546272&#45;&gt;140393111546176</title>\n<path fill=\"none\" stroke=\"black\" d=\"M261.5,-796.7C261.5,-788.98 261.5,-779.71 261.5,-771.11\"/>\n<polygon fill=\"black\" stroke=\"black\" points=\"265,-771.1 261.5,-761.1 258,-771.1 265,-771.1\"/>\n</g>\n<!-- 140393111545024&#45;&gt;140393111544736 -->\n<g id=\"edge25\" class=\"edge\">\n<title>140393111545024&#45;&gt;140393111544736</title>\n<path fill=\"none\" stroke=\"black\" d=\"M48.14,-1012.6C53.4,-985.92 62.5,-933.23 62.5,-888 62.5,-888 62.5,-888 62.5,-310 62.5,-261.04 99.26,-214.62 125.8,-187.49\"/>\n<polygon fill=\"black\" stroke=\"black\" points=\"128.34,-189.89 132.97,-180.36 123.41,-184.92 128.34,-189.89\"/>\n</g>\n</g>\n</svg>\n"
     },
     "metadata": {},
     "output_type": "display_data"
    }
   ],
   "source": [
    "net = Net()\n",
    "x = nn.Parameter(torch.tensor(2.), requires_grad=True)\n",
    "y = torch.tensor(1.)\n",
    "\n",
    "optim = torchopt.MetaAdam(net, lr=1., moment_requires_grad=False)\n",
    "\n",
    "net_state_0 = torchopt.extract_state_dict(net, enable_visual=True, visual_prefix='step0.')\n",
    "inner_loss = F.mse_loss(net(x), y)\n",
    "optim.step(inner_loss)\n",
    "net_state_1 = torchopt.extract_state_dict(net, enable_visual=True, visual_prefix='step1.')\n",
    "\n",
    "outer_loss = F.mse_loss(net(x), y)\n",
    "display(torchopt.visual.make_dot(outer_loss, params=[net_state_0, net_state_1, {'x': x, 'outer_loss': outer_loss}]))"
   ]
  },
  {
   "cell_type": "markdown",
   "metadata": {},
   "source": [
    "- When you track the meta-gradient through moment (`moment_requires_grad=True`, default for `torchopt.MetaAdam`)"
   ]
  },
  {
   "cell_type": "code",
   "execution_count": 5,
   "metadata": {},
   "outputs": [
    {
     "name": "stdout",
     "output_type": "stream",
     "text": [
      "<graphviz.dot.Digraph object at 0x7fafd18ae100>\n"
     ]
    },
    {
     "data": {
      "image/svg+xml": "<?xml version=\"1.0\" encoding=\"UTF-8\" standalone=\"no\"?>\n<!DOCTYPE svg PUBLIC \"-//W3C//DTD SVG 1.1//EN\"\n \"http://www.w3.org/Graphics/SVG/1.1/DTD/svg11.dtd\">\n<!-- Generated by graphviz version 2.42.3 (20191010.1750)\n -->\n<!-- Title: %3 Pages: 1 -->\n<svg width=\"484pt\" height=\"1273pt\"\n viewBox=\"0.00 0.00 483.50 1273.00\" xmlns=\"http://www.w3.org/2000/svg\" xmlns:xlink=\"http://www.w3.org/1999/xlink\">\n<g id=\"graph0\" class=\"graph\" transform=\"scale(1 1) rotate(0) translate(4 1269)\">\n<title>%3</title>\n<polygon fill=\"white\" stroke=\"transparent\" points=\"-4,4 -4,-1269 479.5,-1269 479.5,4 -4,4\"/>\n<!-- 140393102737552 -->\n<g id=\"node1\" class=\"node\">\n<title>140393102737552</title>\n<polygon fill=\"#caff70\" stroke=\"black\" points=\"418.5,-36 341.5,-36 341.5,0 418.5,0 418.5,-36\"/>\n<text text-anchor=\"middle\" x=\"380\" y=\"-21\" font-family=\"menlo\" font-size=\"10.00\">outer_loss</text>\n<text text-anchor=\"middle\" x=\"380\" y=\"-10\" font-family=\"menlo\" font-size=\"10.00\"> ()</text>\n</g>\n<!-- 140393111544400 -->\n<g id=\"node2\" class=\"node\">\n<title>140393111544400</title>\n<polygon fill=\"lightgrey\" stroke=\"black\" points=\"436.5,-108 323.5,-108 323.5,-72 436.5,-72 436.5,-108\"/>\n<text text-anchor=\"middle\" x=\"380\" y=\"-87.5\" font-family=\"menlo\" font-size=\"10.00\">MseLossBackward0</text>\n</g>\n<!-- 140393111544400&#45;&gt;140393102737552 -->\n<g id=\"edge33\" class=\"edge\">\n<title>140393111544400&#45;&gt;140393102737552</title>\n<path fill=\"none\" stroke=\"black\" d=\"M380,-71.7C380,-63.98 380,-54.71 380,-46.11\"/>\n<polygon fill=\"black\" stroke=\"black\" points=\"383.5,-46.1 380,-36.1 376.5,-46.1 383.5,-46.1\"/>\n</g>\n<!-- 140393111544304 -->\n<g id=\"node3\" class=\"node\">\n<title>140393111544304</title>\n<polygon fill=\"lightgrey\" stroke=\"black\" points=\"424.5,-180 335.5,-180 335.5,-144 424.5,-144 424.5,-180\"/>\n<text text-anchor=\"middle\" x=\"380\" y=\"-159.5\" font-family=\"menlo\" font-size=\"10.00\">MulBackward0</text>\n</g>\n<!-- 140393111544304&#45;&gt;140393111544400 -->\n<g id=\"edge1\" class=\"edge\">\n<title>140393111544304&#45;&gt;140393111544400</title>\n<path fill=\"none\" stroke=\"black\" d=\"M380,-143.7C380,-135.98 380,-126.71 380,-118.11\"/>\n<polygon fill=\"black\" stroke=\"black\" points=\"383.5,-118.1 380,-108.1 376.5,-118.1 383.5,-118.1\"/>\n</g>\n<!-- 140396584753232 -->\n<g id=\"node4\" class=\"node\">\n<title>140396584753232</title>\n<polygon fill=\"lightblue\" stroke=\"black\" points=\"281.5,-257 192.5,-257 192.5,-216 281.5,-216 281.5,-257\"/>\n<text text-anchor=\"middle\" x=\"237\" y=\"-245\" font-family=\"menlo\" font-size=\"10.00\">AddBackward0</text>\n<text text-anchor=\"middle\" x=\"237\" y=\"-234\" font-family=\"menlo\" font-size=\"10.00\"> step1.a</text>\n<text text-anchor=\"middle\" x=\"237\" y=\"-223\" font-family=\"menlo\" font-size=\"10.00\"> ()</text>\n</g>\n<!-- 140396584753232&#45;&gt;140393111544304 -->\n<g id=\"edge2\" class=\"edge\">\n<title>140396584753232&#45;&gt;140393111544304</title>\n<path fill=\"none\" stroke=\"black\" d=\"M275.7,-215.88C294.69,-206.25 317.63,-194.62 337.15,-184.72\"/>\n<polygon fill=\"black\" stroke=\"black\" points=\"338.8,-187.81 346.14,-180.17 335.64,-181.57 338.8,-187.81\"/>\n</g>\n<!-- 140393111544016 -->\n<g id=\"node5\" class=\"node\">\n<title>140393111544016</title>\n<polygon fill=\"lightgrey\" stroke=\"black\" points=\"155.5,-1121 54.5,-1121 54.5,-1085 155.5,-1085 155.5,-1121\"/>\n<text text-anchor=\"middle\" x=\"105\" y=\"-1100.5\" font-family=\"menlo\" font-size=\"10.00\">AccumulateGrad</text>\n</g>\n<!-- 140393111544016&#45;&gt;140396584753232 -->\n<g id=\"edge3\" class=\"edge\">\n<title>140393111544016&#45;&gt;140396584753232</title>\n<path fill=\"none\" stroke=\"black\" d=\"M80.65,-1084.87C49.63,-1060.84 0,-1013.96 0,-960 0,-960 0,-960 0,-382 0,-297.03 112.44,-260.56 182.42,-246.09\"/>\n<polygon fill=\"black\" stroke=\"black\" points=\"183.29,-249.48 192.42,-244.11 181.93,-242.61 183.29,-249.48\"/>\n</g>\n<!-- 140393111547280 -->\n<g id=\"node17\" class=\"node\">\n<title>140393111547280</title>\n<polygon fill=\"lightgrey\" stroke=\"black\" points=\"258.5,-1049 169.5,-1049 169.5,-1013 258.5,-1013 258.5,-1049\"/>\n<text text-anchor=\"middle\" x=\"214\" y=\"-1028.5\" font-family=\"menlo\" font-size=\"10.00\">MulBackward0</text>\n</g>\n<!-- 140393111544016&#45;&gt;140393111547280 -->\n<g id=\"edge16\" class=\"edge\">\n<title>140393111544016&#45;&gt;140393111547280</title>\n<path fill=\"none\" stroke=\"black\" d=\"M131.66,-1084.88C145.78,-1075.81 163.31,-1064.55 178.56,-1054.76\"/>\n<polygon fill=\"black\" stroke=\"black\" points=\"180.71,-1057.54 187.23,-1049.19 176.93,-1051.65 180.71,-1057.54\"/>\n</g>\n<!-- 140393111570848 -->\n<g id=\"node6\" class=\"node\">\n<title>140393111570848</title>\n<polygon fill=\"lightblue\" stroke=\"black\" points=\"134.5,-1193 75.5,-1193 75.5,-1157 134.5,-1157 134.5,-1193\"/>\n<text text-anchor=\"middle\" x=\"105\" y=\"-1178\" font-family=\"menlo\" font-size=\"10.00\">step0.a</text>\n<text text-anchor=\"middle\" x=\"105\" y=\"-1167\" font-family=\"menlo\" font-size=\"10.00\"> ()</text>\n</g>\n<!-- 140393111570848&#45;&gt;140393111544016 -->\n<g id=\"edge4\" class=\"edge\">\n<title>140393111570848&#45;&gt;140393111544016</title>\n<path fill=\"none\" stroke=\"black\" d=\"M105,-1156.7C105,-1148.98 105,-1139.71 105,-1131.11\"/>\n<polygon fill=\"black\" stroke=\"black\" points=\"108.5,-1131.1 105,-1121.1 101.5,-1131.1 108.5,-1131.1\"/>\n</g>\n<!-- 140393111544256 -->\n<g id=\"node7\" class=\"node\">\n<title>140393111544256</title>\n<polygon fill=\"lightgrey\" stroke=\"black\" points=\"281.5,-329 192.5,-329 192.5,-293 281.5,-293 281.5,-329\"/>\n<text text-anchor=\"middle\" x=\"237\" y=\"-308.5\" font-family=\"menlo\" font-size=\"10.00\">MulBackward0</text>\n</g>\n<!-- 140393111544256&#45;&gt;140396584753232 -->\n<g id=\"edge5\" class=\"edge\">\n<title>140393111544256&#45;&gt;140396584753232</title>\n<path fill=\"none\" stroke=\"black\" d=\"M237,-292.82C237,-285.2 237,-276 237,-267.32\"/>\n<polygon fill=\"black\" stroke=\"black\" points=\"240.5,-267.12 237,-257.12 233.5,-267.12 240.5,-267.12\"/>\n</g>\n<!-- 140393111544160 -->\n<g id=\"node8\" class=\"node\">\n<title>140393111544160</title>\n<polygon fill=\"lightgrey\" stroke=\"black\" points=\"281.5,-401 192.5,-401 192.5,-365 281.5,-365 281.5,-401\"/>\n<text text-anchor=\"middle\" x=\"237\" y=\"-380.5\" font-family=\"menlo\" font-size=\"10.00\">DivBackward0</text>\n</g>\n<!-- 140393111544160&#45;&gt;140393111544256 -->\n<g id=\"edge6\" class=\"edge\">\n<title>140393111544160&#45;&gt;140393111544256</title>\n<path fill=\"none\" stroke=\"black\" d=\"M237,-364.7C237,-356.98 237,-347.71 237,-339.11\"/>\n<polygon fill=\"black\" stroke=\"black\" points=\"240.5,-339.1 237,-329.1 233.5,-339.1 240.5,-339.1\"/>\n</g>\n<!-- 140393111546512 -->\n<g id=\"node9\" class=\"node\">\n<title>140393111546512</title>\n<polygon fill=\"lightgrey\" stroke=\"black\" points=\"224.5,-617 135.5,-617 135.5,-581 224.5,-581 224.5,-617\"/>\n<text text-anchor=\"middle\" x=\"180\" y=\"-596.5\" font-family=\"menlo\" font-size=\"10.00\">DivBackward0</text>\n</g>\n<!-- 140393111546512&#45;&gt;140393111544160 -->\n<g id=\"edge7\" class=\"edge\">\n<title>140393111546512&#45;&gt;140393111544160</title>\n<path fill=\"none\" stroke=\"black\" d=\"M181.37,-580.64C184.11,-550.64 191.59,-487.48 209,-437 212.16,-427.85 216.71,-418.35 221.24,-409.97\"/>\n<polygon fill=\"black\" stroke=\"black\" points=\"224.4,-411.49 226.26,-401.06 218.3,-408.05 224.4,-411.49\"/>\n</g>\n<!-- 140393111544112 -->\n<g id=\"node10\" class=\"node\">\n<title>140393111544112</title>\n<polygon fill=\"lightgrey\" stroke=\"black\" points=\"224.5,-761 135.5,-761 135.5,-725 224.5,-725 224.5,-761\"/>\n<text text-anchor=\"middle\" x=\"180\" y=\"-740.5\" font-family=\"menlo\" font-size=\"10.00\">AddBackward0</text>\n</g>\n<!-- 140393111544112&#45;&gt;140393111546512 -->\n<g id=\"edge8\" class=\"edge\">\n<title>140393111544112&#45;&gt;140393111546512</title>\n<path fill=\"none\" stroke=\"black\" d=\"M180,-724.87C180,-700.67 180,-656.21 180,-627.39\"/>\n<polygon fill=\"black\" stroke=\"black\" points=\"183.5,-627.19 180,-617.19 176.5,-627.19 183.5,-627.19\"/>\n</g>\n<!-- 140393111546368 -->\n<g id=\"node11\" class=\"node\">\n<title>140393111546368</title>\n<polygon fill=\"lightgrey\" stroke=\"black\" points=\"117.5,-833 28.5,-833 28.5,-797 117.5,-797 117.5,-833\"/>\n<text text-anchor=\"middle\" x=\"73\" y=\"-812.5\" font-family=\"menlo\" font-size=\"10.00\">MulBackward0</text>\n</g>\n<!-- 140393111546368&#45;&gt;140393111544112 -->\n<g id=\"edge9\" class=\"edge\">\n<title>140393111546368&#45;&gt;140393111544112</title>\n<path fill=\"none\" stroke=\"black\" d=\"M99.18,-796.88C113.04,-787.81 130.24,-776.55 145.21,-766.76\"/>\n<polygon fill=\"black\" stroke=\"black\" points=\"147.27,-769.59 153.72,-761.19 143.44,-763.74 147.27,-769.59\"/>\n</g>\n<!-- 140393111547040 -->\n<g id=\"node12\" class=\"node\">\n<title>140393111547040</title>\n<polygon fill=\"lightgrey\" stroke=\"black\" points=\"129.5,-905 28.5,-905 28.5,-869 129.5,-869 129.5,-905\"/>\n<text text-anchor=\"middle\" x=\"79\" y=\"-884.5\" font-family=\"menlo\" font-size=\"10.00\">AccumulateGrad</text>\n</g>\n<!-- 140393111547040&#45;&gt;140393111546368 -->\n<g id=\"edge10\" class=\"edge\">\n<title>140393111547040&#45;&gt;140393111546368</title>\n<path fill=\"none\" stroke=\"black\" d=\"M77.52,-868.7C76.86,-860.98 76.06,-851.71 75.32,-843.11\"/>\n<polygon fill=\"black\" stroke=\"black\" points=\"78.81,-842.77 74.47,-833.1 71.83,-843.37 78.81,-842.77\"/>\n</g>\n<!-- 140393111569408 -->\n<g id=\"node13\" class=\"node\">\n<title>140393111569408</title>\n<polygon fill=\"lightblue\" stroke=\"black\" points=\"106,-977 52,-977 52,-941 106,-941 106,-977\"/>\n<text text-anchor=\"middle\" x=\"79\" y=\"-950.5\" font-family=\"menlo\" font-size=\"10.00\"> ()</text>\n</g>\n<!-- 140393111569408&#45;&gt;140393111547040 -->\n<g id=\"edge11\" class=\"edge\">\n<title>140393111569408&#45;&gt;140393111547040</title>\n<path fill=\"none\" stroke=\"black\" d=\"M79,-940.7C79,-932.98 79,-923.71 79,-915.11\"/>\n<polygon fill=\"black\" stroke=\"black\" points=\"82.5,-915.1 79,-905.1 75.5,-915.1 82.5,-915.1\"/>\n</g>\n<!-- 140393111546272 -->\n<g id=\"node14\" class=\"node\">\n<title>140393111546272</title>\n<polygon fill=\"lightgrey\" stroke=\"black\" points=\"224.5,-833 135.5,-833 135.5,-797 224.5,-797 224.5,-833\"/>\n<text text-anchor=\"middle\" x=\"180\" y=\"-812.5\" font-family=\"menlo\" font-size=\"10.00\">PowBackward0</text>\n</g>\n<!-- 140393111546272&#45;&gt;140393111544112 -->\n<g id=\"edge12\" class=\"edge\">\n<title>140393111546272&#45;&gt;140393111544112</title>\n<path fill=\"none\" stroke=\"black\" d=\"M180,-796.7C180,-788.98 180,-779.71 180,-771.11\"/>\n<polygon fill=\"black\" stroke=\"black\" points=\"183.5,-771.1 180,-761.1 176.5,-771.1 183.5,-771.1\"/>\n</g>\n<!-- 140393111547088 -->\n<g id=\"node15\" class=\"node\">\n<title>140393111547088</title>\n<polygon fill=\"lightgrey\" stroke=\"black\" points=\"284.5,-905 195.5,-905 195.5,-869 284.5,-869 284.5,-905\"/>\n<text text-anchor=\"middle\" x=\"240\" y=\"-884.5\" font-family=\"menlo\" font-size=\"10.00\">MulBackward0</text>\n</g>\n<!-- 140393111547088&#45;&gt;140393111546272 -->\n<g id=\"edge13\" class=\"edge\">\n<title>140393111547088&#45;&gt;140393111546272</title>\n<path fill=\"none\" stroke=\"black\" d=\"M225.17,-868.7C217.98,-860.3 209.2,-850.07 201.31,-840.86\"/>\n<polygon fill=\"black\" stroke=\"black\" points=\"203.83,-838.42 194.66,-833.1 198.51,-842.97 203.83,-838.42\"/>\n</g>\n<!-- 140393111547328 -->\n<g id=\"node29\" class=\"node\">\n<title>140393111547328</title>\n<polygon fill=\"lightgrey\" stroke=\"black\" points=\"331.5,-833 242.5,-833 242.5,-797 331.5,-797 331.5,-833\"/>\n<text text-anchor=\"middle\" x=\"287\" y=\"-812.5\" font-family=\"menlo\" font-size=\"10.00\">PowBackward0</text>\n</g>\n<!-- 140393111547088&#45;&gt;140393111547328 -->\n<g id=\"edge30\" class=\"edge\">\n<title>140393111547088&#45;&gt;140393111547328</title>\n<path fill=\"none\" stroke=\"black\" d=\"M251.62,-868.7C257.14,-860.47 263.85,-850.48 269.93,-841.42\"/>\n<polygon fill=\"black\" stroke=\"black\" points=\"272.85,-843.36 275.52,-833.1 267.04,-839.46 272.85,-843.36\"/>\n</g>\n<!-- 140393111547184 -->\n<g id=\"node16\" class=\"node\">\n<title>140393111547184</title>\n<polygon fill=\"lightgrey\" stroke=\"black\" points=\"294.5,-977 133.5,-977 133.5,-941 294.5,-941 294.5,-977\"/>\n<text text-anchor=\"middle\" x=\"214\" y=\"-956.5\" font-family=\"menlo\" font-size=\"10.00\">MseLossBackwardBackward0</text>\n</g>\n<!-- 140393111547184&#45;&gt;140393111547088 -->\n<g id=\"edge14\" class=\"edge\">\n<title>140393111547184&#45;&gt;140393111547088</title>\n<path fill=\"none\" stroke=\"black\" d=\"M220.43,-940.7C223.36,-932.81 226.89,-923.3 230.14,-914.55\"/>\n<polygon fill=\"black\" stroke=\"black\" points=\"233.45,-915.7 233.65,-905.1 226.88,-913.26 233.45,-915.7\"/>\n</g>\n<!-- 140393111547280&#45;&gt;140393111547184 -->\n<g id=\"edge15\" class=\"edge\">\n<title>140393111547280&#45;&gt;140393111547184</title>\n<path fill=\"none\" stroke=\"black\" d=\"M214,-1012.7C214,-1004.98 214,-995.71 214,-987.11\"/>\n<polygon fill=\"black\" stroke=\"black\" points=\"217.5,-987.1 214,-977.1 210.5,-987.1 217.5,-987.1\"/>\n</g>\n<!-- 140393111546944 -->\n<g id=\"node18\" class=\"node\">\n<title>140393111546944</title>\n<polygon fill=\"lightgrey\" stroke=\"black\" points=\"367.5,-1121 278.5,-1121 278.5,-1085 367.5,-1085 367.5,-1121\"/>\n<text text-anchor=\"middle\" x=\"323\" y=\"-1100.5\" font-family=\"menlo\" font-size=\"10.00\">PowBackward0</text>\n</g>\n<!-- 140393111546944&#45;&gt;140393111547088 -->\n<g id=\"edge20\" class=\"edge\">\n<title>140393111546944&#45;&gt;140393111547088</title>\n<path fill=\"none\" stroke=\"black\" d=\"M324.96,-1084.78C327.64,-1053.91 329.56,-987.97 304,-941 297.69,-929.4 287.71,-919.32 277.49,-911.16\"/>\n<polygon fill=\"black\" stroke=\"black\" points=\"279.41,-908.22 269.31,-905.03 275.21,-913.82 279.41,-908.22\"/>\n</g>\n<!-- 140393111546944&#45;&gt;140393111547280 -->\n<g id=\"edge17\" class=\"edge\">\n<title>140393111546944&#45;&gt;140393111547280</title>\n<path fill=\"none\" stroke=\"black\" d=\"M296.34,-1084.88C282.22,-1075.81 264.69,-1064.55 249.44,-1054.76\"/>\n<polygon fill=\"black\" stroke=\"black\" points=\"251.07,-1051.65 240.77,-1049.19 247.29,-1057.54 251.07,-1051.65\"/>\n</g>\n<!-- 140393111546320 -->\n<g id=\"node19\" class=\"node\">\n<title>140393111546320</title>\n<polygon fill=\"lightgrey\" stroke=\"black\" points=\"418.5,-1193 317.5,-1193 317.5,-1157 418.5,-1157 418.5,-1193\"/>\n<text text-anchor=\"middle\" x=\"368\" y=\"-1172.5\" font-family=\"menlo\" font-size=\"10.00\">AccumulateGrad</text>\n</g>\n<!-- 140393111546320&#45;&gt;140393111546944 -->\n<g id=\"edge18\" class=\"edge\">\n<title>140393111546320&#45;&gt;140393111546944</title>\n<path fill=\"none\" stroke=\"black\" d=\"M356.88,-1156.7C351.64,-1148.56 345.3,-1138.69 339.52,-1129.7\"/>\n<polygon fill=\"black\" stroke=\"black\" points=\"342.35,-1127.62 334,-1121.1 336.46,-1131.41 342.35,-1127.62\"/>\n</g>\n<!-- 140393111544208 -->\n<g id=\"node30\" class=\"node\">\n<title>140393111544208</title>\n<polygon fill=\"lightgrey\" stroke=\"black\" points=\"475.5,-1049 386.5,-1049 386.5,-1013 475.5,-1013 475.5,-1049\"/>\n<text text-anchor=\"middle\" x=\"431\" y=\"-1028.5\" font-family=\"menlo\" font-size=\"10.00\">PowBackward0</text>\n</g>\n<!-- 140393111546320&#45;&gt;140393111544208 -->\n<g id=\"edge32\" class=\"edge\">\n<title>140393111546320&#45;&gt;140393111544208</title>\n<path fill=\"none\" stroke=\"black\" d=\"M375.6,-1156.87C386.43,-1132.46 406.41,-1087.43 419.18,-1058.64\"/>\n<polygon fill=\"black\" stroke=\"black\" points=\"422.52,-1059.75 423.37,-1049.19 416.12,-1056.91 422.52,-1059.75\"/>\n</g>\n<!-- 140393111571168 -->\n<g id=\"node20\" class=\"node\">\n<title>140393111571168</title>\n<polygon fill=\"lightblue\" stroke=\"black\" points=\"395,-1265 341,-1265 341,-1229 395,-1229 395,-1265\"/>\n<text text-anchor=\"middle\" x=\"368\" y=\"-1250\" font-family=\"menlo\" font-size=\"10.00\">x</text>\n<text text-anchor=\"middle\" x=\"368\" y=\"-1239\" font-family=\"menlo\" font-size=\"10.00\"> ()</text>\n</g>\n<!-- 140393111571168&#45;&gt;140393111546320 -->\n<g id=\"edge19\" class=\"edge\">\n<title>140393111571168&#45;&gt;140393111546320</title>\n<path fill=\"none\" stroke=\"black\" d=\"M368,-1228.7C368,-1220.98 368,-1211.71 368,-1203.11\"/>\n<polygon fill=\"black\" stroke=\"black\" points=\"371.5,-1203.1 368,-1193.1 364.5,-1203.1 371.5,-1203.1\"/>\n</g>\n<!-- 140393111546848 -->\n<g id=\"node21\" class=\"node\">\n<title>140393111546848</title>\n<polygon fill=\"lightgrey\" stroke=\"black\" points=\"306.5,-473 217.5,-473 217.5,-437 306.5,-437 306.5,-473\"/>\n<text text-anchor=\"middle\" x=\"262\" y=\"-452.5\" font-family=\"menlo\" font-size=\"10.00\">AddBackward0</text>\n</g>\n<!-- 140393111546848&#45;&gt;140393111544160 -->\n<g id=\"edge21\" class=\"edge\">\n<title>140393111546848&#45;&gt;140393111544160</title>\n<path fill=\"none\" stroke=\"black\" d=\"M255.82,-436.7C253,-428.81 249.61,-419.3 246.48,-410.55\"/>\n<polygon fill=\"black\" stroke=\"black\" points=\"249.77,-409.34 243.11,-401.1 243.18,-411.7 249.77,-409.34\"/>\n</g>\n<!-- 140393111547136 -->\n<g id=\"node22\" class=\"node\">\n<title>140393111547136</title>\n<polygon fill=\"lightgrey\" stroke=\"black\" points=\"326.5,-545 231.5,-545 231.5,-509 326.5,-509 326.5,-545\"/>\n<text text-anchor=\"middle\" x=\"279\" y=\"-524.5\" font-family=\"menlo\" font-size=\"10.00\">SqrtBackward0</text>\n</g>\n<!-- 140393111547136&#45;&gt;140393111546848 -->\n<g id=\"edge22\" class=\"edge\">\n<title>140393111547136&#45;&gt;140393111546848</title>\n<path fill=\"none\" stroke=\"black\" d=\"M274.8,-508.7C272.9,-500.9 270.62,-491.51 268.52,-482.83\"/>\n<polygon fill=\"black\" stroke=\"black\" points=\"271.92,-482 266.15,-473.1 265.11,-483.65 271.92,-482\"/>\n</g>\n<!-- 140393111547232 -->\n<g id=\"node23\" class=\"node\">\n<title>140393111547232</title>\n<polygon fill=\"lightgrey\" stroke=\"black\" points=\"331.5,-617 242.5,-617 242.5,-581 331.5,-581 331.5,-617\"/>\n<text text-anchor=\"middle\" x=\"287\" y=\"-596.5\" font-family=\"menlo\" font-size=\"10.00\">AddBackward0</text>\n</g>\n<!-- 140393111547232&#45;&gt;140393111547136 -->\n<g id=\"edge23\" class=\"edge\">\n<title>140393111547232&#45;&gt;140393111547136</title>\n<path fill=\"none\" stroke=\"black\" d=\"M285.02,-580.7C284.14,-572.98 283.08,-563.71 282.1,-555.11\"/>\n<polygon fill=\"black\" stroke=\"black\" points=\"285.57,-554.64 280.95,-545.1 278.61,-555.44 285.57,-554.64\"/>\n</g>\n<!-- 140393111545360 -->\n<g id=\"node24\" class=\"node\">\n<title>140393111545360</title>\n<polygon fill=\"lightgrey\" stroke=\"black\" points=\"331.5,-689 242.5,-689 242.5,-653 331.5,-653 331.5,-689\"/>\n<text text-anchor=\"middle\" x=\"287\" y=\"-668.5\" font-family=\"menlo\" font-size=\"10.00\">DivBackward0</text>\n</g>\n<!-- 140393111545360&#45;&gt;140393111547232 -->\n<g id=\"edge24\" class=\"edge\">\n<title>140393111545360&#45;&gt;140393111547232</title>\n<path fill=\"none\" stroke=\"black\" d=\"M287,-652.7C287,-644.98 287,-635.71 287,-627.11\"/>\n<polygon fill=\"black\" stroke=\"black\" points=\"290.5,-627.1 287,-617.1 283.5,-627.1 290.5,-627.1\"/>\n</g>\n<!-- 140393111547424 -->\n<g id=\"node25\" class=\"node\">\n<title>140393111547424</title>\n<polygon fill=\"lightgrey\" stroke=\"black\" points=\"331.5,-761 242.5,-761 242.5,-725 331.5,-725 331.5,-761\"/>\n<text text-anchor=\"middle\" x=\"287\" y=\"-740.5\" font-family=\"menlo\" font-size=\"10.00\">AddBackward0</text>\n</g>\n<!-- 140393111547424&#45;&gt;140393111545360 -->\n<g id=\"edge25\" class=\"edge\">\n<title>140393111547424&#45;&gt;140393111545360</title>\n<path fill=\"none\" stroke=\"black\" d=\"M287,-724.7C287,-716.98 287,-707.71 287,-699.11\"/>\n<polygon fill=\"black\" stroke=\"black\" points=\"290.5,-699.1 287,-689.1 283.5,-699.1 290.5,-699.1\"/>\n</g>\n<!-- 140393111547520 -->\n<g id=\"node26\" class=\"node\">\n<title>140393111547520</title>\n<polygon fill=\"lightgrey\" stroke=\"black\" points=\"438.5,-833 349.5,-833 349.5,-797 438.5,-797 438.5,-833\"/>\n<text text-anchor=\"middle\" x=\"394\" y=\"-812.5\" font-family=\"menlo\" font-size=\"10.00\">MulBackward0</text>\n</g>\n<!-- 140393111547520&#45;&gt;140393111547424 -->\n<g id=\"edge26\" class=\"edge\">\n<title>140393111547520&#45;&gt;140393111547424</title>\n<path fill=\"none\" stroke=\"black\" d=\"M367.82,-796.88C353.96,-787.81 336.76,-776.55 321.79,-766.76\"/>\n<polygon fill=\"black\" stroke=\"black\" points=\"323.56,-763.74 313.28,-761.19 319.73,-769.59 323.56,-763.74\"/>\n</g>\n<!-- 140393111547616 -->\n<g id=\"node27\" class=\"node\">\n<title>140393111547616</title>\n<polygon fill=\"lightgrey\" stroke=\"black\" points=\"438.5,-905 337.5,-905 337.5,-869 438.5,-869 438.5,-905\"/>\n<text text-anchor=\"middle\" x=\"388\" y=\"-884.5\" font-family=\"menlo\" font-size=\"10.00\">AccumulateGrad</text>\n</g>\n<!-- 140393111547616&#45;&gt;140393111547520 -->\n<g id=\"edge27\" class=\"edge\">\n<title>140393111547616&#45;&gt;140393111547520</title>\n<path fill=\"none\" stroke=\"black\" d=\"M389.48,-868.7C390.14,-860.98 390.94,-851.71 391.68,-843.11\"/>\n<polygon fill=\"black\" stroke=\"black\" points=\"395.17,-843.37 392.53,-833.1 388.19,-842.77 395.17,-843.37\"/>\n</g>\n<!-- 140393111570288 -->\n<g id=\"node28\" class=\"node\">\n<title>140393111570288</title>\n<polygon fill=\"lightblue\" stroke=\"black\" points=\"415,-977 361,-977 361,-941 415,-941 415,-977\"/>\n<text text-anchor=\"middle\" x=\"388\" y=\"-950.5\" font-family=\"menlo\" font-size=\"10.00\"> ()</text>\n</g>\n<!-- 140393111570288&#45;&gt;140393111547616 -->\n<g id=\"edge28\" class=\"edge\">\n<title>140393111570288&#45;&gt;140393111547616</title>\n<path fill=\"none\" stroke=\"black\" d=\"M388,-940.7C388,-932.98 388,-923.71 388,-915.11\"/>\n<polygon fill=\"black\" stroke=\"black\" points=\"391.5,-915.1 388,-905.1 384.5,-915.1 391.5,-915.1\"/>\n</g>\n<!-- 140393111547328&#45;&gt;140393111547424 -->\n<g id=\"edge29\" class=\"edge\">\n<title>140393111547328&#45;&gt;140393111547424</title>\n<path fill=\"none\" stroke=\"black\" d=\"M287,-796.7C287,-788.98 287,-779.71 287,-771.11\"/>\n<polygon fill=\"black\" stroke=\"black\" points=\"290.5,-771.1 287,-761.1 283.5,-771.1 290.5,-771.1\"/>\n</g>\n<!-- 140393111544208&#45;&gt;140393111544304 -->\n<g id=\"edge31\" class=\"edge\">\n<title>140393111544208&#45;&gt;140393111544304</title>\n<path fill=\"none\" stroke=\"black\" d=\"M438.29,-1012.87C448.8,-986.53 467,-934.29 467,-888 467,-888 467,-888 467,-310 467,-261.42 431.37,-214.81 405.71,-187.55\"/>\n<polygon fill=\"black\" stroke=\"black\" points=\"407.92,-184.8 398.45,-180.06 402.9,-189.68 407.92,-184.8\"/>\n</g>\n</g>\n</svg>\n"
     },
     "metadata": {},
     "output_type": "display_data"
    }
   ],
   "source": [
    "net = Net()\n",
    "x = nn.Parameter(torch.tensor(2.), requires_grad=True)\n",
    "y = torch.tensor(1.)\n",
    "\n",
    "optim = torchopt.MetaAdam(net, lr=1., moment_requires_grad=True)\n",
    "\n",
    "net_state_0 = torchopt.extract_state_dict(net, enable_visual=True, visual_prefix='step0.')\n",
    "inner_loss = F.mse_loss(net(x), y)\n",
    "optim.step(inner_loss)\n",
    "net_state_1 = torchopt.extract_state_dict(net, enable_visual=True, visual_prefix='step1.')\n",
    "\n",
    "outer_loss = F.mse_loss(net(x), y)\n",
    "display(torchopt.visual.make_dot(outer_loss, params=[net_state_0, net_state_1, {'x': x, 'outer_loss': outer_loss}]))"
   ]
  },
  {
   "cell_type": "markdown",
   "metadata": {},
   "source": [
    "We can see that the additional moment terms are added into the computational graph when we set `moment_requires_grad = True`."
   ]
  },
  {
   "cell_type": "markdown",
   "metadata": {},
   "source": [
    "## 2. Extract and Recover"
   ]
  },
  {
   "cell_type": "markdown",
   "metadata": {},
   "source": [
    "### 2.1 Basic API\n",
    "\n",
    "We observe that how to reinitialize the inner-loop parameter in a new bi-level process vary in different meta-learning algorithms. For instance, in algorithm like Model-Agnostic Meta-Learning (MAML) ([arXiv:1703.03400](https://arxiv.org/abs/1703.03400)), every time a new task comes, we need to reset the parameters to the initial ones. In other cases such as Meta-Gradient Reinforcement Learning (MGRL) ([arXiv:1805.09801](https://arxiv.org/abs/1805.09801)), the inner-loop network parameter just inherit previous updated parameter to continue the new bi-level process.\n",
    "\n",
    "We provide the `torchopt.extract_state_dict` and `torchopt.recover_state_dict` functions to extract and restore the state of network and optimizer. By default, the extracted state dictionary is a reference (this design is for accumulating gradient of multi-task batch training, MAML for example). You can also set `copy=True` to extract the copy of state dictionary."
   ]
  },
  {
   "cell_type": "code",
   "execution_count": 6,
   "metadata": {},
   "outputs": [
    {
     "name": "stdout",
     "output_type": "stream",
     "text": [
      "a = tensor(-1., grad_fn=<AddBackward0>)\n",
      "a = tensor(-1., grad_fn=<AddBackward0>)\n"
     ]
    }
   ],
   "source": [
    "net = Net()\n",
    "x = nn.Parameter(torch.tensor(2.), requires_grad=True)\n",
    "\n",
    "optim = torchopt.MetaAdam(net, lr=1.)\n",
    "\n",
    "# Get the reference of state dictionary\n",
    "init_net_state = torchopt.extract_state_dict(net)\n",
    "init_optim_state = torchopt.extract_state_dict(optim)\n",
    "\n",
    "# Set `copy=True` to get the copy of state dictionary\n",
    "init_net_state_copy = torchopt.extract_state_dict(net, copy=True)\n",
    "init_optim_state_copy = torchopt.extract_state_dict(optim, copy=True)\n",
    "\n",
    "# Conduct 2 inner-loop optimization\n",
    "for i in range(2):\n",
    "    inner_loss = net(x)\n",
    "    optim.step(inner_loss)\n",
    "\n",
    "print(f'a = {net.a!r}')\n",
    "\n",
    "# Recover and reconduct 2 inner-loop optimization\n",
    "torchopt.recover_state_dict(net, init_net_state)\n",
    "torchopt.recover_state_dict(optim, init_optim_state)\n",
    "\n",
    "for i in range(2):\n",
    "    inner_loss = net(x)\n",
    "    optim.step(inner_loss)\n",
    "\n",
    "print(f'a = {net.a!r}')  # the same result"
   ]
  },
  {
   "cell_type": "markdown",
   "metadata": {},
   "source": [
    "### 2.2 Multi-task Example with `extract_state_dict` and `recover_state_dict`\n",
    "\n",
    "Let's move to another more complex setting. Meta Learning algorithms always fix network on several different tasks and accumulate outer loss of each task to the meta gradient.\n",
    "\n",
    "Assume $x$ is a meta parameter and $a$ is a normal parameter. We firstly update $a$ use inner loss $\\mathcal{L}_1^{\\textrm{in}} = a_0 \\cdot x^2$ to $a_1$. Then we use $a_1$ to compute the outer loss $\\mathcal{L}_1^{\\textrm{out}} = a_1 \\cdot x^2$ and back-propagate it. Then we use $a_0$ to compute the inner loss $\\mathcal{L}_2^{\\textrm{in}} = a_0 \\cdot x$ and update $a_0$ to $a_2 = a_0 - \\eta \\, \\frac{\\partial \\mathcal{L}_2^{\\textrm{in}}}{\\partial a_0} = a_0 - \\eta \\, x$. Then we compute outer loss $\\mathcal{L}_2^{\\textrm{out}} = a_2 \\cdot x$ and back-propagate it. So the accumulated meta gradient would be:\n",
    "\n",
    "$$\n",
    "\\begin{split}\n",
    "        \\frac{\\partial \\mathcal{L}_1^{\\textrm{out}}}{\\partial x} + \\frac{\\partial \\mathcal{L}_2^{\\textrm{out}}}{\\partial x}\n",
    "    & = (- 4 \\, \\eta \\, x^3 + 2 \\, a_0 \\, x) + \\frac{\\partial (a_2 \\cdot x)}{\\partial x} \\\\\n",
    "    & = (- 4 \\, \\eta \\, x^3 + 2 \\, a_0 \\, x) + (\\frac{\\partial a_2}{\\partial x} \\cdot x + a_2) \\\\\n",
    "    & = (- 4 \\, \\eta \\, x^3 + 2 \\, a_0 \\, x) + [\\frac{\\partial (a_0 - \\eta \\, x)}{\\partial x} \\cdot x + (a_0 - \\eta \\, x)] \\\\\n",
    "    & = (- 4 \\, \\eta \\, x^3 + 2 \\, a_0 \\, x) + [(- \\eta) \\cdot x + (a_0 - \\eta \\, x)] \\\\\n",
    "    & = (- 4 \\, \\eta \\, x^3 + 2 \\, a_0 \\, x) + (- 2 \\, \\eta \\, x + a_0)\n",
    "\\end{split}\n",
    "$$"
   ]
  },
  {
   "cell_type": "markdown",
   "metadata": {},
   "source": [
    "Let's define the network and variables first."
   ]
  },
  {
   "cell_type": "code",
   "execution_count": 7,
   "metadata": {},
   "outputs": [],
   "source": [
    "class Net2Tasks(nn.Module):\n",
    "    def __init__(self):\n",
    "        super().__init__()\n",
    "        self.a = nn.Parameter(torch.tensor(1.), requires_grad=True)\n",
    "    \n",
    "    def task1(self, x):\n",
    "        return self.a * x ** 2\n",
    "    \n",
    "    def task2(self, x):\n",
    "        return self.a * x\n",
    "\n",
    "\n",
    "net = Net2Tasks()\n",
    "x = nn.Parameter(torch.tensor(2.), requires_grad=True)\n",
    "\n",
    "optim = torchopt.MetaSGD(net, lr=1.)"
   ]
  },
  {
   "cell_type": "markdown",
   "metadata": {},
   "source": [
    "Once we call `step` method of `MetaOptimizer`, the parameters of the network would be changed. We should use `torchopt.extract_state_dict` to extract state and use `torchopt.recover_state_dict` to recover the state. Note that if we use optimizers that have momentum buffers, we should also extract and recover them, vanilla SGD does not have momentum buffers so code `init_optim_state = torchopt.extract_state_dict(optim)` and `torchopt.recover_state_dict(optim, init_optim_state)` have no effect."
   ]
  },
  {
   "cell_type": "code",
   "execution_count": 8,
   "metadata": {},
   "outputs": [
    {
     "name": "stdout",
     "output_type": "stream",
     "text": [
      "init_optim_state = ((EmptyState(), EmptyState()),)\n",
      "Task 1: x.grad = tensor(-28.)\n",
      "Accumulated: x.grad = tensor(-31.)\n"
     ]
    }
   ],
   "source": [
    "# Get the reference of state dictionary\n",
    "init_net_state = torchopt.extract_state_dict(net)\n",
    "init_optim_state = torchopt.extract_state_dict(optim)\n",
    "# The `state_dict` is empty for vanilla SGD optimizer\n",
    "print(f'init_optim_state = {init_optim_state!r}')\n",
    "\n",
    "inner_loss_1 = net.task1(x)\n",
    "optim.step(inner_loss_1)\n",
    "outer_loss_1 = net.task1(x)\n",
    "outer_loss_1.backward()\n",
    "print(f'Task 1: x.grad = {x.grad!r}')\n",
    "\n",
    "torchopt.recover_state_dict(net, init_net_state)\n",
    "torchopt.recover_state_dict(optim, init_optim_state)\n",
    "inner_loss_2 = net.task2(x)\n",
    "optim.step(inner_loss_2)\n",
    "outer_loss_2 = net.task2(x)\n",
    "outer_loss_2.backward()\n",
    "\n",
    "# `extract_state_dict`` extracts the reference so gradient accumulates\n",
    "# x.grad = (- 4 * lr * x^3 + 2 * a_0 * x) + (- 2 * lr * x + a_0)\n",
    "#        = (- 4 * 1 * 2^3 + 2 * 1 * 2) + (- 2 * 1 * 2 + 1)\n",
    "#        = -28 - 3\n",
    "#        = -31\n",
    "print(f'Accumulated: x.grad = {x.grad!r}')"
   ]
  },
  {
   "cell_type": "markdown",
   "metadata": {},
   "source": [
    "## 3. Gradient Transformation in `MetaOptimizer`"
   ]
  },
  {
   "cell_type": "markdown",
   "metadata": {},
   "source": [
    "We can also use some gradient normalization tricks in our `MetaOptimizer`. In fact `MetaOptimizer` decedents like `MetaSGD` are specializations of `MetaOptimizer`. Specifically, `MetaSGD(net, lr=1.)` is `MetaOptimizer(net, alias.sgd(lr=1., moment_requires_grad=True))`, where flag `moment_requires_grad=True` means the momentums are created with flag `requires_grad=True` so the momentums will also be the part of the computation graph.\n",
    "\n",
    "In the designing of TorchOpt, we treat these functions as derivations of `combine.chain`. So we can build our own chain like `combine.chain(clip.clip_grad_norm(max_norm=1.), sgd(lr=1., requires_grad=True))` to clip the gradient and update parameters using `sgd`.\n",
    "\n",
    "$$\n",
    "\\begin{aligned}\n",
    "        \\frac{\\partial \\mathcal{L}^{\\textrm{out}}}{\\partial x}\n",
    "    & = \\frac{\\partial (a_1 \\cdot x^2)}{\\partial x} \\\\\n",
    "    & = \\frac{\\partial a_1}{\\partial x} \\cdot x^2 + a_1 \\cdot \\frac{\\partial (x^2)}{\\partial x} \\\\\n",
    "    & = \\frac{\\partial (a_0 - \\eta \\, g)}{\\partial x} \\cdot x^2 + (a_0 - \\eta \\, g) \\cdot 2 x                                  & \\qquad (g \\propto \\frac{\\partial \\mathcal{L}^{\\textrm{in}}}{\\partial a_0} = x^2, \\  {\\lVert g \\rVert}_2 \\le G_{\\max}) \\\\\n",
    "    & = \\frac{\\partial (a_0 - \\eta \\, \\beta^{-1} \\, x^2)}{\\partial x} \\cdot x^2 + (a_0 - \\eta \\, \\beta^{-1} \\, x^2) \\cdot 2 x  & \\qquad (g = \\beta^{-1} \\, x^2, \\   \\beta > 0, \\  {\\lVert g \\rVert}_2 \\le G_{\\max}) \\\\\n",
    "    & = (- \\beta^{-1} \\, \\eta \\cdot 2 x) \\cdot x^2 + (a_0 - \\beta^{-1} \\, \\eta \\, x^2) \\cdot 2 x \\\\\n",
    "    & = - 4 \\, \\beta^{-1} \\, \\eta \\, x^3 + 2 \\, a_0 \\, x\n",
    "\\end{aligned}\n",
    "$$"
   ]
  },
  {
   "cell_type": "code",
   "execution_count": 9,
   "metadata": {},
   "outputs": [
    {
     "name": "stdout",
     "output_type": "stream",
     "text": [
      "x.grad = tensor(-12.0000)\n"
     ]
    }
   ],
   "source": [
    "net = Net()\n",
    "x = nn.Parameter(torch.tensor(2.), requires_grad=True)\n",
    "\n",
    "optim_impl = torchopt.combine.chain(torchopt.clip.clip_grad_norm(max_norm=2.), torchopt.sgd(lr=1., moment_requires_grad=True))\n",
    "optim = torchopt.MetaOptimizer(net, optim_impl)\n",
    "\n",
    "inner_loss = net(x)\n",
    "optim.step(inner_loss)\n",
    "\n",
    "outer_loss = net(x)\n",
    "outer_loss.backward()\n",
    "# Since `max_norm` is 2 and the gradient is x^2, so the scale = x^2 / 2 = 2^2 / 2 = 2\n",
    "# x.grad = - 4 * lr * x^3 / scale + 2 * a_0 * x\n",
    "#        = - 4 * 1 * 2^3 / 2 + 2 * 1 * 2\n",
    "#        = -16 + 4\n",
    "#        = -12\n",
    "print(f'x.grad = {x.grad!r}')"
   ]
  },
  {
   "cell_type": "markdown",
   "metadata": {},
   "source": [
    "## 4. Accelerated Optimizer\n",
    "\n",
    "Users can use accelerated optimizer by setting the `use_accelerated_op` as `True`. Currently we only support the Adam optimizer."
   ]
  },
  {
   "cell_type": "markdown",
   "metadata": {},
   "source": [
    "Check whether the `accelerated_op` is available:"
   ]
  },
  {
   "cell_type": "code",
   "execution_count": 10,
   "metadata": {},
   "outputs": [
    {
     "name": "stdout",
     "output_type": "stream",
     "text": [
      "True\n"
     ]
    }
   ],
   "source": [
    "torchopt.accelerated_op_available(torch.device('cpu'))"
   ]
  },
  {
   "cell_type": "code",
   "execution_count": 11,
   "metadata": {},
   "outputs": [
    {
     "name": "stdout",
     "output_type": "stream",
     "text": [
      "True\n"
     ]
    }
   ],
   "source": [
    "torchopt.accelerated_op_available(torch.device('cuda'))"
   ]
  },
  {
   "cell_type": "code",
   "execution_count": 12,
   "metadata": {},
   "outputs": [
    {
     "name": "stdout",
     "output_type": "stream",
     "text": [
      "<graphviz.dot.Digraph object at 0x7fafd18ae2e0>\n"
     ]
    },
    {
     "data": {
      "image/svg+xml": "<?xml version=\"1.0\" encoding=\"UTF-8\" standalone=\"no\"?>\n<!DOCTYPE svg PUBLIC \"-//W3C//DTD SVG 1.1//EN\"\n \"http://www.w3.org/Graphics/SVG/1.1/DTD/svg11.dtd\">\n<!-- Generated by graphviz version 2.42.3 (20191010.1750)\n -->\n<!-- Title: %3 Pages: 1 -->\n<svg width=\"542pt\" height=\"913pt\"\n viewBox=\"0.00 0.00 542.00 913.00\" xmlns=\"http://www.w3.org/2000/svg\" xmlns:xlink=\"http://www.w3.org/1999/xlink\">\n<g id=\"graph0\" class=\"graph\" transform=\"scale(1 1) rotate(0) translate(4 909)\">\n<title>%3</title>\n<polygon fill=\"white\" stroke=\"transparent\" points=\"-4,4 -4,-909 538,-909 538,4 -4,4\"/>\n<!-- 140393102828544 -->\n<g id=\"node1\" class=\"node\">\n<title>140393102828544</title>\n<polygon fill=\"#caff70\" stroke=\"black\" points=\"454.5,-36 377.5,-36 377.5,0 454.5,0 454.5,-36\"/>\n<text text-anchor=\"middle\" x=\"416\" y=\"-21\" font-family=\"menlo\" font-size=\"10.00\">outer_loss</text>\n<text text-anchor=\"middle\" x=\"416\" y=\"-10\" font-family=\"menlo\" font-size=\"10.00\"> ()</text>\n</g>\n<!-- 140393111546128 -->\n<g id=\"node2\" class=\"node\">\n<title>140393111546128</title>\n<polygon fill=\"lightgrey\" stroke=\"black\" points=\"472.5,-108 359.5,-108 359.5,-72 472.5,-72 472.5,-108\"/>\n<text text-anchor=\"middle\" x=\"416\" y=\"-87.5\" font-family=\"menlo\" font-size=\"10.00\">MseLossBackward0</text>\n</g>\n<!-- 140393111546128&#45;&gt;140393102828544 -->\n<g id=\"edge31\" class=\"edge\">\n<title>140393111546128&#45;&gt;140393102828544</title>\n<path fill=\"none\" stroke=\"black\" d=\"M416,-71.7C416,-63.98 416,-54.71 416,-46.11\"/>\n<polygon fill=\"black\" stroke=\"black\" points=\"419.5,-46.1 416,-36.1 412.5,-46.1 419.5,-46.1\"/>\n</g>\n<!-- 140393111546032 -->\n<g id=\"node3\" class=\"node\">\n<title>140393111546032</title>\n<polygon fill=\"lightgrey\" stroke=\"black\" points=\"460.5,-180 371.5,-180 371.5,-144 460.5,-144 460.5,-180\"/>\n<text text-anchor=\"middle\" x=\"416\" y=\"-159.5\" font-family=\"menlo\" font-size=\"10.00\">MulBackward0</text>\n</g>\n<!-- 140393111546032&#45;&gt;140393111546128 -->\n<g id=\"edge1\" class=\"edge\">\n<title>140393111546032&#45;&gt;140393111546128</title>\n<path fill=\"none\" stroke=\"black\" d=\"M416,-143.7C416,-135.98 416,-126.71 416,-118.11\"/>\n<polygon fill=\"black\" stroke=\"black\" points=\"419.5,-118.1 416,-108.1 412.5,-118.1 419.5,-118.1\"/>\n</g>\n<!-- 140396237940288 -->\n<g id=\"node4\" class=\"node\">\n<title>140396237940288</title>\n<polygon fill=\"lightblue\" stroke=\"black\" points=\"336.5,-257 247.5,-257 247.5,-216 336.5,-216 336.5,-257\"/>\n<text text-anchor=\"middle\" x=\"292\" y=\"-245\" font-family=\"menlo\" font-size=\"10.00\">AddBackward0</text>\n<text text-anchor=\"middle\" x=\"292\" y=\"-234\" font-family=\"menlo\" font-size=\"10.00\"> step1.a</text>\n<text text-anchor=\"middle\" x=\"292\" y=\"-223\" font-family=\"menlo\" font-size=\"10.00\"> ()</text>\n</g>\n<!-- 140396237940288&#45;&gt;140393111546032 -->\n<g id=\"edge2\" class=\"edge\">\n<title>140396237940288&#45;&gt;140393111546032</title>\n<path fill=\"none\" stroke=\"black\" d=\"M325.56,-215.88C341.65,-206.47 361.02,-195.15 377.69,-185.4\"/>\n<polygon fill=\"black\" stroke=\"black\" points=\"379.77,-188.24 386.64,-180.17 376.24,-182.19 379.77,-188.24\"/>\n</g>\n<!-- 140393111546464 -->\n<g id=\"node5\" class=\"node\">\n<title>140393111546464</title>\n<polygon fill=\"lightgrey\" stroke=\"black\" points=\"154.5,-761 53.5,-761 53.5,-725 154.5,-725 154.5,-761\"/>\n<text text-anchor=\"middle\" x=\"104\" y=\"-740.5\" font-family=\"menlo\" font-size=\"10.00\">AccumulateGrad</text>\n</g>\n<!-- 140393111546464&#45;&gt;140396237940288 -->\n<g id=\"edge3\" class=\"edge\">\n<title>140393111546464&#45;&gt;140396237940288</title>\n<path fill=\"none\" stroke=\"black\" d=\"M79.88,-724.82C49.16,-700.73 0,-653.78 0,-600 0,-600 0,-600 0,-382 0,-277.34 152.55,-248.48 237.12,-240.53\"/>\n<polygon fill=\"black\" stroke=\"black\" points=\"237.68,-243.99 247.33,-239.64 237.07,-237.02 237.68,-243.99\"/>\n</g>\n<!-- 140393102725760 -->\n<g id=\"node12\" class=\"node\">\n<title>140393102725760</title>\n<polygon fill=\"lightgrey\" stroke=\"black\" points=\"254.5,-689 165.5,-689 165.5,-653 254.5,-653 254.5,-689\"/>\n<text text-anchor=\"middle\" x=\"210\" y=\"-668.5\" font-family=\"menlo\" font-size=\"10.00\">MulBackward0</text>\n</g>\n<!-- 140393111546464&#45;&gt;140393102725760 -->\n<g id=\"edge11\" class=\"edge\">\n<title>140393111546464&#45;&gt;140393102725760</title>\n<path fill=\"none\" stroke=\"black\" d=\"M129.93,-724.88C143.66,-715.81 160.71,-704.55 175.54,-694.76\"/>\n<polygon fill=\"black\" stroke=\"black\" points=\"177.55,-697.62 183.97,-689.19 173.7,-691.78 177.55,-697.62\"/>\n</g>\n<!-- 140393102827744 -->\n<g id=\"node6\" class=\"node\">\n<title>140393102827744</title>\n<polygon fill=\"lightblue\" stroke=\"black\" points=\"133.5,-833 74.5,-833 74.5,-797 133.5,-797 133.5,-833\"/>\n<text text-anchor=\"middle\" x=\"104\" y=\"-818\" font-family=\"menlo\" font-size=\"10.00\">step0.a</text>\n<text text-anchor=\"middle\" x=\"104\" y=\"-807\" font-family=\"menlo\" font-size=\"10.00\"> ()</text>\n</g>\n<!-- 140393102827744&#45;&gt;140393111546464 -->\n<g id=\"edge4\" class=\"edge\">\n<title>140393102827744&#45;&gt;140393111546464</title>\n<path fill=\"none\" stroke=\"black\" d=\"M104,-796.7C104,-788.98 104,-779.71 104,-771.11\"/>\n<polygon fill=\"black\" stroke=\"black\" points=\"107.5,-771.1 104,-761.1 100.5,-771.1 107.5,-771.1\"/>\n</g>\n<!-- 140393102725232 -->\n<g id=\"node7\" class=\"node\">\n<title>140393102725232</title>\n<polygon fill=\"lightgrey\" stroke=\"black\" points=\"336.5,-329 247.5,-329 247.5,-293 336.5,-293 336.5,-329\"/>\n<text text-anchor=\"middle\" x=\"292\" y=\"-308.5\" font-family=\"menlo\" font-size=\"10.00\">MulBackward0</text>\n</g>\n<!-- 140393102725232&#45;&gt;140396237940288 -->\n<g id=\"edge5\" class=\"edge\">\n<title>140393102725232&#45;&gt;140396237940288</title>\n<path fill=\"none\" stroke=\"black\" d=\"M292,-292.82C292,-285.2 292,-276 292,-267.32\"/>\n<polygon fill=\"black\" stroke=\"black\" points=\"295.5,-267.12 292,-257.12 288.5,-267.12 295.5,-267.12\"/>\n</g>\n<!-- 140393112318976 -->\n<g id=\"node8\" class=\"node\">\n<title>140393112318976</title>\n<polygon fill=\"lightgrey\" stroke=\"black\" points=\"351.5,-401 232.5,-401 232.5,-365 351.5,-365 351.5,-401\"/>\n<text text-anchor=\"middle\" x=\"292\" y=\"-380.5\" font-family=\"menlo\" font-size=\"10.00\">UpdatesOpBackward</text>\n</g>\n<!-- 140393112318976&#45;&gt;140393102725232 -->\n<g id=\"edge6\" class=\"edge\">\n<title>140393112318976&#45;&gt;140393102725232</title>\n<path fill=\"none\" stroke=\"black\" d=\"M292,-364.7C292,-356.98 292,-347.71 292,-339.11\"/>\n<polygon fill=\"black\" stroke=\"black\" points=\"295.5,-339.1 292,-329.1 288.5,-339.1 295.5,-339.1\"/>\n</g>\n<!-- 140396647894368 -->\n<g id=\"node9\" class=\"node\">\n<title>140396647894368</title>\n<polygon fill=\"lightgrey\" stroke=\"black\" points=\"426.5,-473 337.5,-473 337.5,-437 426.5,-437 426.5,-473\"/>\n<text text-anchor=\"middle\" x=\"382\" y=\"-452.5\" font-family=\"menlo\" font-size=\"10.00\">MuOpBackward</text>\n</g>\n<!-- 140396647894368&#45;&gt;140393112318976 -->\n<g id=\"edge7\" class=\"edge\">\n<title>140396647894368&#45;&gt;140393112318976</title>\n<path fill=\"none\" stroke=\"black\" d=\"M359.75,-436.7C348.42,-427.88 334.47,-417.03 322.18,-407.47\"/>\n<polygon fill=\"black\" stroke=\"black\" points=\"324.03,-404.48 313.99,-401.1 319.74,-410.01 324.03,-404.48\"/>\n</g>\n<!-- 140393102725472 -->\n<g id=\"node10\" class=\"node\">\n<title>140393102725472</title>\n<polygon fill=\"lightgrey\" stroke=\"black\" points=\"275.5,-545 186.5,-545 186.5,-509 275.5,-509 275.5,-545\"/>\n<text text-anchor=\"middle\" x=\"231\" y=\"-524.5\" font-family=\"menlo\" font-size=\"10.00\">MulBackward0</text>\n</g>\n<!-- 140393102725472&#45;&gt;140396647894368 -->\n<g id=\"edge8\" class=\"edge\">\n<title>140393102725472&#45;&gt;140396647894368</title>\n<path fill=\"none\" stroke=\"black\" d=\"M267.94,-508.88C288.49,-499.35 314.25,-487.41 336.09,-477.28\"/>\n<polygon fill=\"black\" stroke=\"black\" points=\"337.58,-480.45 345.18,-473.07 334.64,-474.1 337.58,-480.45\"/>\n</g>\n<!-- 140393112318736 -->\n<g id=\"node19\" class=\"node\">\n<title>140393112318736</title>\n<polygon fill=\"lightgrey\" stroke=\"black\" points=\"174.5,-473 85.5,-473 85.5,-437 174.5,-437 174.5,-473\"/>\n<text text-anchor=\"middle\" x=\"130\" y=\"-452.5\" font-family=\"menlo\" font-size=\"10.00\">NuOpBackward</text>\n</g>\n<!-- 140393102725472&#45;&gt;140393112318736 -->\n<g id=\"edge21\" class=\"edge\">\n<title>140393102725472&#45;&gt;140393112318736</title>\n<path fill=\"none\" stroke=\"black\" d=\"M206.29,-508.88C193.33,-499.89 177.27,-488.76 163.23,-479.03\"/>\n<polygon fill=\"black\" stroke=\"black\" points=\"165.02,-476.01 154.8,-473.19 161.03,-481.76 165.02,-476.01\"/>\n</g>\n<!-- 140393102725616 -->\n<g id=\"node11\" class=\"node\">\n<title>140393102725616</title>\n<polygon fill=\"lightgrey\" stroke=\"black\" points=\"290.5,-617 129.5,-617 129.5,-581 290.5,-581 290.5,-617\"/>\n<text text-anchor=\"middle\" x=\"210\" y=\"-596.5\" font-family=\"menlo\" font-size=\"10.00\">MseLossBackwardBackward0</text>\n</g>\n<!-- 140393102725616&#45;&gt;140393102725472 -->\n<g id=\"edge9\" class=\"edge\">\n<title>140393102725616&#45;&gt;140393102725472</title>\n<path fill=\"none\" stroke=\"black\" d=\"M215.19,-580.7C217.53,-572.9 220.35,-563.51 222.95,-554.83\"/>\n<polygon fill=\"black\" stroke=\"black\" points=\"226.35,-555.69 225.87,-545.1 219.64,-553.68 226.35,-555.69\"/>\n</g>\n<!-- 140393102725760&#45;&gt;140393102725616 -->\n<g id=\"edge10\" class=\"edge\">\n<title>140393102725760&#45;&gt;140393102725616</title>\n<path fill=\"none\" stroke=\"black\" d=\"M210,-652.7C210,-644.98 210,-635.71 210,-627.11\"/>\n<polygon fill=\"black\" stroke=\"black\" points=\"213.5,-627.1 210,-617.1 206.5,-627.1 213.5,-627.1\"/>\n</g>\n<!-- 140393102725568 -->\n<g id=\"node13\" class=\"node\">\n<title>140393102725568</title>\n<polygon fill=\"lightgrey\" stroke=\"black\" points=\"363.5,-761 274.5,-761 274.5,-725 363.5,-725 363.5,-761\"/>\n<text text-anchor=\"middle\" x=\"319\" y=\"-740.5\" font-family=\"menlo\" font-size=\"10.00\">PowBackward0</text>\n</g>\n<!-- 140393102725568&#45;&gt;140393102725472 -->\n<g id=\"edge15\" class=\"edge\">\n<title>140393102725568&#45;&gt;140393102725472</title>\n<path fill=\"none\" stroke=\"black\" d=\"M321.13,-724.69C324.09,-693.66 326.41,-627.5 300,-581 293.22,-569.07 282.57,-558.93 271.64,-550.82\"/>\n<polygon fill=\"black\" stroke=\"black\" points=\"273.49,-547.85 263.29,-545.01 269.5,-553.59 273.49,-547.85\"/>\n</g>\n<!-- 140393102725568&#45;&gt;140393102725760 -->\n<g id=\"edge12\" class=\"edge\">\n<title>140393102725568&#45;&gt;140393102725760</title>\n<path fill=\"none\" stroke=\"black\" d=\"M292.34,-724.88C278.22,-715.81 260.69,-704.55 245.44,-694.76\"/>\n<polygon fill=\"black\" stroke=\"black\" points=\"247.07,-691.65 236.77,-689.19 243.29,-697.54 247.07,-691.65\"/>\n</g>\n<!-- 140393102725904 -->\n<g id=\"node14\" class=\"node\">\n<title>140393102725904</title>\n<polygon fill=\"lightgrey\" stroke=\"black\" points=\"423.5,-833 322.5,-833 322.5,-797 423.5,-797 423.5,-833\"/>\n<text text-anchor=\"middle\" x=\"373\" y=\"-812.5\" font-family=\"menlo\" font-size=\"10.00\">AccumulateGrad</text>\n</g>\n<!-- 140393102725904&#45;&gt;140393102725568 -->\n<g id=\"edge13\" class=\"edge\">\n<title>140393102725904&#45;&gt;140393102725568</title>\n<path fill=\"none\" stroke=\"black\" d=\"M359.65,-796.7C353.24,-788.39 345.44,-778.28 338.39,-769.14\"/>\n<polygon fill=\"black\" stroke=\"black\" points=\"341.07,-766.88 332.19,-761.1 335.53,-771.16 341.07,-766.88\"/>\n</g>\n<!-- 140393111543968 -->\n<g id=\"node25\" class=\"node\">\n<title>140393111543968</title>\n<polygon fill=\"lightgrey\" stroke=\"black\" points=\"508.5,-689 419.5,-689 419.5,-653 508.5,-653 508.5,-689\"/>\n<text text-anchor=\"middle\" x=\"464\" y=\"-668.5\" font-family=\"menlo\" font-size=\"10.00\">PowBackward0</text>\n</g>\n<!-- 140393102725904&#45;&gt;140393111543968 -->\n<g id=\"edge30\" class=\"edge\">\n<title>140393102725904&#45;&gt;140393111543968</title>\n<path fill=\"none\" stroke=\"black\" d=\"M383.98,-796.87C399.76,-772.24 428.99,-726.64 447.41,-697.88\"/>\n<polygon fill=\"black\" stroke=\"black\" points=\"450.54,-699.5 452.98,-689.19 444.64,-695.72 450.54,-699.5\"/>\n</g>\n<!-- 140393111485872 -->\n<g id=\"node15\" class=\"node\">\n<title>140393111485872</title>\n<polygon fill=\"lightblue\" stroke=\"black\" points=\"400,-905 346,-905 346,-869 400,-869 400,-905\"/>\n<text text-anchor=\"middle\" x=\"373\" y=\"-890\" font-family=\"menlo\" font-size=\"10.00\">x</text>\n<text text-anchor=\"middle\" x=\"373\" y=\"-879\" font-family=\"menlo\" font-size=\"10.00\"> ()</text>\n</g>\n<!-- 140393111485872&#45;&gt;140393102725904 -->\n<g id=\"edge14\" class=\"edge\">\n<title>140393111485872&#45;&gt;140393102725904</title>\n<path fill=\"none\" stroke=\"black\" d=\"M373,-868.7C373,-860.98 373,-851.71 373,-843.11\"/>\n<polygon fill=\"black\" stroke=\"black\" points=\"376.5,-843.1 373,-833.1 369.5,-843.1 376.5,-843.1\"/>\n</g>\n<!-- 140393102725328 -->\n<g id=\"node16\" class=\"node\">\n<title>140393102725328</title>\n<polygon fill=\"lightgrey\" stroke=\"black\" points=\"505.5,-545 404.5,-545 404.5,-509 505.5,-509 505.5,-545\"/>\n<text text-anchor=\"middle\" x=\"455\" y=\"-524.5\" font-family=\"menlo\" font-size=\"10.00\">AccumulateGrad</text>\n</g>\n<!-- 140393102725328&#45;&gt;140396647894368 -->\n<g id=\"edge16\" class=\"edge\">\n<title>140393102725328&#45;&gt;140396647894368</title>\n<path fill=\"none\" stroke=\"black\" d=\"M436.96,-508.7C427.94,-500.05 416.88,-489.45 407.06,-480.03\"/>\n<polygon fill=\"black\" stroke=\"black\" points=\"409.48,-477.5 399.84,-473.1 404.63,-482.55 409.48,-477.5\"/>\n</g>\n<!-- 140393111534224 -->\n<g id=\"node17\" class=\"node\">\n<title>140393111534224</title>\n<polygon fill=\"orange\" stroke=\"black\" points=\"442,-617 388,-617 388,-581 442,-581 442,-617\"/>\n<text text-anchor=\"middle\" x=\"415\" y=\"-590.5\" font-family=\"menlo\" font-size=\"10.00\"> ()</text>\n</g>\n<!-- 140393111534224&#45;&gt;140396647894368 -->\n<g id=\"edge19\" class=\"edge\">\n<title>140393111534224&#45;&gt;140396647894368</title>\n<path fill=\"none\" stroke=\"black\" d=\"M407.82,-580.59C403.85,-570.37 399.1,-557.12 396,-545 390.78,-524.57 387.18,-500.98 384.93,-483.22\"/>\n<polygon fill=\"black\" stroke=\"black\" points=\"388.4,-482.77 383.74,-473.26 381.45,-483.6 388.4,-482.77\"/>\n</g>\n<!-- 140393111534224&#45;&gt;140393102725328 -->\n<g id=\"edge17\" class=\"edge\">\n<title>140393111534224&#45;&gt;140393102725328</title>\n<path fill=\"none\" stroke=\"black\" d=\"M424.89,-580.7C429.49,-572.64 435.06,-562.89 440.15,-553.98\"/>\n<polygon fill=\"black\" stroke=\"black\" points=\"443.3,-555.52 445.23,-545.1 437.23,-552.05 443.3,-555.52\"/>\n</g>\n<!-- 140393111531904 -->\n<g id=\"node18\" class=\"node\">\n<title>140393111531904</title>\n<polygon fill=\"orange\" stroke=\"black\" points=\"348,-545 294,-545 294,-509 348,-509 348,-545\"/>\n<text text-anchor=\"middle\" x=\"321\" y=\"-518.5\" font-family=\"menlo\" font-size=\"10.00\"> ()</text>\n</g>\n<!-- 140393111531904&#45;&gt;140396647894368 -->\n<g id=\"edge18\" class=\"edge\">\n<title>140393111531904&#45;&gt;140396647894368</title>\n<path fill=\"none\" stroke=\"black\" d=\"M336.08,-508.7C343.39,-500.3 352.31,-490.07 360.34,-480.86\"/>\n<polygon fill=\"black\" stroke=\"black\" points=\"363.16,-482.94 367.09,-473.1 357.89,-478.34 363.16,-482.94\"/>\n</g>\n<!-- 140393111531904&#45;&gt;140393112318736 -->\n<g id=\"edge24\" class=\"edge\">\n<title>140393111531904&#45;&gt;140393112318736</title>\n<path fill=\"none\" stroke=\"black\" d=\"M293.62,-512.69C290.73,-511.4 287.82,-510.14 285,-509 266.37,-501.44 221.05,-486.07 184.2,-473.82\"/>\n<polygon fill=\"black\" stroke=\"black\" points=\"185.14,-470.44 174.55,-470.62 182.94,-477.09 185.14,-470.44\"/>\n</g>\n<!-- 140393112318736&#45;&gt;140393112318976 -->\n<g id=\"edge20\" class=\"edge\">\n<title>140393112318736&#45;&gt;140393112318976</title>\n<path fill=\"none\" stroke=\"black\" d=\"M169.63,-436.88C191.78,-427.31 219.56,-415.3 243.06,-405.15\"/>\n<polygon fill=\"black\" stroke=\"black\" points=\"244.71,-408.25 252.5,-401.07 241.93,-401.82 244.71,-408.25\"/>\n</g>\n<!-- 140393102725712 -->\n<g id=\"node20\" class=\"node\">\n<title>140393102725712</title>\n<polygon fill=\"lightgrey\" stroke=\"black\" points=\"129.5,-545 28.5,-545 28.5,-509 129.5,-509 129.5,-545\"/>\n<text text-anchor=\"middle\" x=\"79\" y=\"-524.5\" font-family=\"menlo\" font-size=\"10.00\">AccumulateGrad</text>\n</g>\n<!-- 140393102725712&#45;&gt;140393112318736 -->\n<g id=\"edge22\" class=\"edge\">\n<title>140393102725712&#45;&gt;140393112318736</title>\n<path fill=\"none\" stroke=\"black\" d=\"M91.61,-508.7C97.6,-500.47 104.88,-490.48 111.48,-481.42\"/>\n<polygon fill=\"black\" stroke=\"black\" points=\"114.48,-483.25 117.54,-473.1 108.82,-479.13 114.48,-483.25\"/>\n</g>\n<!-- 140393102827824 -->\n<g id=\"node21\" class=\"node\">\n<title>140393102827824</title>\n<polygon fill=\"orange\" stroke=\"black\" points=\"108,-617 54,-617 54,-581 108,-581 108,-617\"/>\n<text text-anchor=\"middle\" x=\"81\" y=\"-590.5\" font-family=\"menlo\" font-size=\"10.00\"> ()</text>\n</g>\n<!-- 140393102827824&#45;&gt;140393112318736 -->\n<g id=\"edge25\" class=\"edge\">\n<title>140393102827824&#45;&gt;140393112318736</title>\n<path fill=\"none\" stroke=\"black\" d=\"M107.58,-580.91C119.24,-571.81 131.69,-559.49 138,-545 146.53,-525.41 143.57,-501.14 139.01,-482.89\"/>\n<polygon fill=\"black\" stroke=\"black\" points=\"142.36,-481.87 136.29,-473.18 135.62,-483.76 142.36,-481.87\"/>\n</g>\n<!-- 140393102827824&#45;&gt;140393102725712 -->\n<g id=\"edge23\" class=\"edge\">\n<title>140393102827824&#45;&gt;140393102725712</title>\n<path fill=\"none\" stroke=\"black\" d=\"M80.51,-580.7C80.29,-572.98 80.02,-563.71 79.77,-555.11\"/>\n<polygon fill=\"black\" stroke=\"black\" points=\"83.27,-555 79.49,-545.1 76.28,-555.2 83.27,-555\"/>\n</g>\n<!-- 140393102828784 -->\n<g id=\"node22\" class=\"node\">\n<title>140393102828784</title>\n<polygon fill=\"orange\" stroke=\"black\" points=\"247,-473 193,-473 193,-437 247,-437 247,-473\"/>\n<text text-anchor=\"middle\" x=\"220\" y=\"-446.5\" font-family=\"menlo\" font-size=\"10.00\"> ()</text>\n</g>\n<!-- 140393102828784&#45;&gt;140393112318976 -->\n<g id=\"edge26\" class=\"edge\">\n<title>140393102828784&#45;&gt;140393112318976</title>\n<path fill=\"none\" stroke=\"black\" d=\"M237.8,-436.7C246.6,-428.14 257.38,-417.66 267,-408.3\"/>\n<polygon fill=\"black\" stroke=\"black\" points=\"269.68,-410.58 274.41,-401.1 264.8,-405.57 269.68,-410.58\"/>\n</g>\n<!-- 140393102828144 -->\n<g id=\"node23\" class=\"node\">\n<title>140393102828144</title>\n<polygon fill=\"orange\" stroke=\"black\" points=\"319,-473 265,-473 265,-437 319,-437 319,-473\"/>\n<text text-anchor=\"middle\" x=\"292\" y=\"-446.5\" font-family=\"menlo\" font-size=\"10.00\"> ()</text>\n</g>\n<!-- 140393102828144&#45;&gt;140393112318976 -->\n<g id=\"edge27\" class=\"edge\">\n<title>140393102828144&#45;&gt;140393112318976</title>\n<path fill=\"none\" stroke=\"black\" d=\"M292,-436.7C292,-428.98 292,-419.71 292,-411.11\"/>\n<polygon fill=\"black\" stroke=\"black\" points=\"295.5,-411.1 292,-401.1 288.5,-411.1 295.5,-411.1\"/>\n</g>\n<!-- 140393102828224 -->\n<g id=\"node24\" class=\"node\">\n<title>140393102828224</title>\n<polygon fill=\"orange\" stroke=\"black\" points=\"499,-473 445,-473 445,-437 499,-437 499,-473\"/>\n<text text-anchor=\"middle\" x=\"472\" y=\"-446.5\" font-family=\"menlo\" font-size=\"10.00\"> ()</text>\n</g>\n<!-- 140393102828224&#45;&gt;140393112318976 -->\n<g id=\"edge28\" class=\"edge\">\n<title>140393102828224&#45;&gt;140393112318976</title>\n<path fill=\"none\" stroke=\"black\" d=\"M444.99,-440.93C441.97,-439.57 438.93,-438.23 436,-437 408.55,-425.49 377.63,-413.94 351.5,-404.56\"/>\n<polygon fill=\"black\" stroke=\"black\" points=\"352.33,-401.14 341.74,-401.08 349.98,-407.74 352.33,-401.14\"/>\n</g>\n<!-- 140393111543968&#45;&gt;140393111546032 -->\n<g id=\"edge29\" class=\"edge\">\n<title>140393111543968&#45;&gt;140393111546032</title>\n<path fill=\"none\" stroke=\"black\" d=\"M478.85,-652.97C499.39,-627.58 534,-577.47 534,-528 534,-528 534,-528 534,-310 534,-256.75 486.33,-211.81 451.59,-186.12\"/>\n<polygon fill=\"black\" stroke=\"black\" points=\"453.24,-183 443.07,-180.01 449.16,-188.69 453.24,-183\"/>\n</g>\n</g>\n</svg>\n"
     },
     "metadata": {},
     "output_type": "display_data"
    }
   ],
   "source": [
    "net = Net().to(device='cuda')\n",
    "x = nn.Parameter(torch.tensor(2., device=torch.device('cuda')), requires_grad=True)\n",
    "y = torch.tensor(1., device=torch.device('cuda'))\n",
    "\n",
    "optim = torchopt.MetaAdam(net, lr=1., moment_requires_grad=True, use_accelerated_op=True)\n",
    "\n",
    "net_state_0 = torchopt.extract_state_dict(net, enable_visual=True, visual_prefix='step0.')\n",
    "inner_loss = F.mse_loss(net(x), y)\n",
    "optim.step(inner_loss)\n",
    "net_state_1 = torchopt.extract_state_dict(net, enable_visual=True, visual_prefix='step1.')\n",
    "\n",
    "outer_loss = F.mse_loss(net(x), y)\n",
    "display(torchopt.visual.make_dot(outer_loss, params=[net_state_0, net_state_1, {'x': x, 'outer_loss': outer_loss}]))"
   ]
  }
 ],
 "metadata": {
  "kernelspec": {
   "display_name": "Python 3.8.13 ('torchopt')",
   "language": "python",
   "name": "python3"
  },
  "language_info": {
   "codemirror_mode": {
    "name": "ipython",
    "version": 3
   },
   "file_extension": ".py",
   "mimetype": "text/x-python",
   "name": "python",
   "nbconvert_exporter": "python",
   "pygments_lexer": "ipython3",
   "version": "3.8.13"
  },
  "vscode": {
   "interpreter": {
    "hash": "2a8cc1ff2cbc47027bf9993941710d9ab9175f14080903d9c7c432ee63d681da"
   }
  }
 },
 "nbformat": 4,
 "nbformat_minor": 4
}
